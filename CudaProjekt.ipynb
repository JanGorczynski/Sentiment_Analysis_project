{
  "cells": [
    {
      "cell_type": "markdown",
      "metadata": {
        "id": "view-in-github",
        "colab_type": "text"
      },
      "source": [
        "<a href=\"https://colab.research.google.com/github/JanGorczynski/Sentiment_Analysis_project/blob/main/CudaProjekt.ipynb\" target=\"_parent\"><img src=\"https://colab.research.google.com/assets/colab-badge.svg\" alt=\"Open In Colab\"/></a>"
      ]
    },
    {
      "cell_type": "code",
      "source": [
        "!pip install keras-tuner"
      ],
      "metadata": {
        "colab": {
          "base_uri": "https://localhost:8080/"
        },
        "id": "HxegrLKY7JBS",
        "outputId": "8ce458c3-d5ee-4e23-c67e-418a5d39db91"
      },
      "execution_count": null,
      "outputs": [
        {
          "output_type": "stream",
          "name": "stdout",
          "text": [
            "Collecting keras-tuner\n",
            "  Downloading keras_tuner-1.3.5-py3-none-any.whl (176 kB)\n",
            "\u001b[2K     \u001b[90m━━━━━━━━━━━━━━━━━━━━━━━━━━━━━━━━━━━━━━━\u001b[0m \u001b[32m176.1/176.1 kB\u001b[0m \u001b[31m1.5 MB/s\u001b[0m eta \u001b[36m0:00:00\u001b[0m\n",
            "\u001b[?25hRequirement already satisfied: packaging in /usr/local/lib/python3.10/dist-packages (from keras-tuner) (23.1)\n",
            "Requirement already satisfied: requests in /usr/local/lib/python3.10/dist-packages (from keras-tuner) (2.31.0)\n",
            "Collecting kt-legacy (from keras-tuner)\n",
            "  Downloading kt_legacy-1.0.5-py3-none-any.whl (9.6 kB)\n",
            "Requirement already satisfied: charset-normalizer<4,>=2 in /usr/local/lib/python3.10/dist-packages (from requests->keras-tuner) (3.2.0)\n",
            "Requirement already satisfied: idna<4,>=2.5 in /usr/local/lib/python3.10/dist-packages (from requests->keras-tuner) (3.4)\n",
            "Requirement already satisfied: urllib3<3,>=1.21.1 in /usr/local/lib/python3.10/dist-packages (from requests->keras-tuner) (2.0.4)\n",
            "Requirement already satisfied: certifi>=2017.4.17 in /usr/local/lib/python3.10/dist-packages (from requests->keras-tuner) (2023.7.22)\n",
            "Installing collected packages: kt-legacy, keras-tuner\n",
            "Successfully installed keras-tuner-1.3.5 kt-legacy-1.0.5\n"
          ]
        }
      ]
    },
    {
      "cell_type": "code",
      "execution_count": null,
      "metadata": {
        "id": "Bc0I7dNbbUqg",
        "colab": {
          "base_uri": "https://localhost:8080/"
        },
        "outputId": "a666d079-c000-4b61-a84f-43dbce66f641"
      },
      "outputs": [
        {
          "output_type": "stream",
          "name": "stderr",
          "text": [
            "<ipython-input-2-1c198f573c97>:23: DeprecationWarning: `import kerastuner` is deprecated, please use `import keras_tuner`.\n",
            "  from kerastuner import RandomSearch, HyperModel\n"
          ]
        }
      ],
      "source": [
        "import pandas as pd\n",
        "import numpy as np\n",
        "import tensorflow as tf\n",
        "import re\n",
        "import nltk\n",
        "import matplotlib.pyplot as plt\n",
        "from sklearn.metrics import confusion_matrix, classification_report\n",
        "import seaborn as sns\n",
        "from nltk.corpus import stopwords\n",
        "from nltk.stem import WordNetLemmatizer\n",
        "import gensim\n",
        "import gensim.downloader as api\n",
        "from keras.preprocessing.text import Tokenizer\n",
        "from keras.utils import pad_sequences\n",
        "from sklearn.model_selection import train_test_split\n",
        "from sklearn.preprocessing import MinMaxScaler\n",
        "from tensorflow.keras.callbacks import ModelCheckpoint\n",
        "from tensorflow.keras.callbacks import TensorBoard\n",
        "from keras.models import Sequential, Model\n",
        "from keras.layers import Dense\n",
        "from tensorflow.keras.optimizers import Adam, SGD\n",
        "from keras.layers import LSTM,CuDNNLSTM, Dropout, Embedding, Conv1D, MultiHeadAttention, Input, Flatten, BatchNormalization, Dropout\n",
        "from kerastuner import RandomSearch, HyperModel"
      ]
    },
    {
      "cell_type": "markdown",
      "source": [
        "# Data imports and preparation\n",
        "In this section we loaded and prepared data for traning\n"
      ],
      "metadata": {
        "id": "O1t4wTEk1yMf"
      }
    },
    {
      "cell_type": "code",
      "execution_count": null,
      "metadata": {
        "colab": {
          "base_uri": "https://localhost:8080/"
        },
        "id": "V127h580IWbP",
        "outputId": "fd9c85c5-60dd-4181-8af9-6eedd89f4a63"
      },
      "outputs": [
        {
          "output_type": "stream",
          "name": "stderr",
          "text": [
            "[nltk_data] Downloading package stopwords to /root/nltk_data...\n",
            "[nltk_data]   Unzipping corpora/stopwords.zip.\n",
            "[nltk_data] Downloading package wordnet to /root/nltk_data...\n"
          ]
        },
        {
          "output_type": "execute_result",
          "data": {
            "text/plain": [
              "True"
            ]
          },
          "metadata": {},
          "execution_count": 3
        }
      ],
      "source": [
        "\n",
        "nltk.download('stopwords')\n",
        "nltk.download('wordnet')"
      ]
    },
    {
      "cell_type": "code",
      "source": [
        "from google.colab import drive\n",
        "drive.mount('/content/drive')"
      ],
      "metadata": {
        "id": "XDn8tXI5ndfJ",
        "colab": {
          "base_uri": "https://localhost:8080/"
        },
        "outputId": "24d3278b-6153-479d-9f36-4dc2e32457f3"
      },
      "execution_count": null,
      "outputs": [
        {
          "output_type": "stream",
          "name": "stdout",
          "text": [
            "Mounted at /content/drive\n"
          ]
        }
      ]
    },
    {
      "cell_type": "code",
      "execution_count": null,
      "metadata": {
        "id": "N93gLWX5bkNY"
      },
      "outputs": [],
      "source": [
        "df = pd.read_csv(\"/content/drive/MyDrive/Colab/IMDB Dataset.csv\")"
      ]
    },
    {
      "cell_type": "code",
      "execution_count": null,
      "metadata": {
        "id": "oUx6KUGIdB2R"
      },
      "outputs": [],
      "source": [
        "df.columns = [\"Review\",\"Sentiment\"]"
      ]
    },
    {
      "cell_type": "code",
      "execution_count": null,
      "metadata": {
        "id": "wvUXG-YAdM89",
        "colab": {
          "base_uri": "https://localhost:8080/",
          "height": 206
        },
        "outputId": "560dfd45-ea20-44b0-b634-16fecfb19fdf"
      },
      "outputs": [
        {
          "output_type": "execute_result",
          "data": {
            "text/plain": [
              "                                              Review Sentiment\n",
              "0  One of the other reviewers has mentioned that ...  positive\n",
              "1  A wonderful little production. <br /><br />The...  positive\n",
              "2  I thought this was a wonderful way to spend ti...  positive\n",
              "3  Basically there's a family where a little boy ...  negative\n",
              "4  Petter Mattei's \"Love in the Time of Money\" is...  positive"
            ],
            "text/html": [
              "\n",
              "  <div id=\"df-89d2cb7f-bcb5-483f-babd-ddd0474bd0df\" class=\"colab-df-container\">\n",
              "    <div>\n",
              "<style scoped>\n",
              "    .dataframe tbody tr th:only-of-type {\n",
              "        vertical-align: middle;\n",
              "    }\n",
              "\n",
              "    .dataframe tbody tr th {\n",
              "        vertical-align: top;\n",
              "    }\n",
              "\n",
              "    .dataframe thead th {\n",
              "        text-align: right;\n",
              "    }\n",
              "</style>\n",
              "<table border=\"1\" class=\"dataframe\">\n",
              "  <thead>\n",
              "    <tr style=\"text-align: right;\">\n",
              "      <th></th>\n",
              "      <th>Review</th>\n",
              "      <th>Sentiment</th>\n",
              "    </tr>\n",
              "  </thead>\n",
              "  <tbody>\n",
              "    <tr>\n",
              "      <th>0</th>\n",
              "      <td>One of the other reviewers has mentioned that ...</td>\n",
              "      <td>positive</td>\n",
              "    </tr>\n",
              "    <tr>\n",
              "      <th>1</th>\n",
              "      <td>A wonderful little production. &lt;br /&gt;&lt;br /&gt;The...</td>\n",
              "      <td>positive</td>\n",
              "    </tr>\n",
              "    <tr>\n",
              "      <th>2</th>\n",
              "      <td>I thought this was a wonderful way to spend ti...</td>\n",
              "      <td>positive</td>\n",
              "    </tr>\n",
              "    <tr>\n",
              "      <th>3</th>\n",
              "      <td>Basically there's a family where a little boy ...</td>\n",
              "      <td>negative</td>\n",
              "    </tr>\n",
              "    <tr>\n",
              "      <th>4</th>\n",
              "      <td>Petter Mattei's \"Love in the Time of Money\" is...</td>\n",
              "      <td>positive</td>\n",
              "    </tr>\n",
              "  </tbody>\n",
              "</table>\n",
              "</div>\n",
              "    <div class=\"colab-df-buttons\">\n",
              "\n",
              "  <div class=\"colab-df-container\">\n",
              "    <button class=\"colab-df-convert\" onclick=\"convertToInteractive('df-89d2cb7f-bcb5-483f-babd-ddd0474bd0df')\"\n",
              "            title=\"Convert this dataframe to an interactive table.\"\n",
              "            style=\"display:none;\">\n",
              "\n",
              "  <svg xmlns=\"http://www.w3.org/2000/svg\" height=\"24px\" viewBox=\"0 -960 960 960\">\n",
              "    <path d=\"M120-120v-720h720v720H120Zm60-500h600v-160H180v160Zm220 220h160v-160H400v160Zm0 220h160v-160H400v160ZM180-400h160v-160H180v160Zm440 0h160v-160H620v160ZM180-180h160v-160H180v160Zm440 0h160v-160H620v160Z\"/>\n",
              "  </svg>\n",
              "    </button>\n",
              "\n",
              "  <style>\n",
              "    .colab-df-container {\n",
              "      display:flex;\n",
              "      gap: 12px;\n",
              "    }\n",
              "\n",
              "    .colab-df-convert {\n",
              "      background-color: #E8F0FE;\n",
              "      border: none;\n",
              "      border-radius: 50%;\n",
              "      cursor: pointer;\n",
              "      display: none;\n",
              "      fill: #1967D2;\n",
              "      height: 32px;\n",
              "      padding: 0 0 0 0;\n",
              "      width: 32px;\n",
              "    }\n",
              "\n",
              "    .colab-df-convert:hover {\n",
              "      background-color: #E2EBFA;\n",
              "      box-shadow: 0px 1px 2px rgba(60, 64, 67, 0.3), 0px 1px 3px 1px rgba(60, 64, 67, 0.15);\n",
              "      fill: #174EA6;\n",
              "    }\n",
              "\n",
              "    .colab-df-buttons div {\n",
              "      margin-bottom: 4px;\n",
              "    }\n",
              "\n",
              "    [theme=dark] .colab-df-convert {\n",
              "      background-color: #3B4455;\n",
              "      fill: #D2E3FC;\n",
              "    }\n",
              "\n",
              "    [theme=dark] .colab-df-convert:hover {\n",
              "      background-color: #434B5C;\n",
              "      box-shadow: 0px 1px 3px 1px rgba(0, 0, 0, 0.15);\n",
              "      filter: drop-shadow(0px 1px 2px rgba(0, 0, 0, 0.3));\n",
              "      fill: #FFFFFF;\n",
              "    }\n",
              "  </style>\n",
              "\n",
              "    <script>\n",
              "      const buttonEl =\n",
              "        document.querySelector('#df-89d2cb7f-bcb5-483f-babd-ddd0474bd0df button.colab-df-convert');\n",
              "      buttonEl.style.display =\n",
              "        google.colab.kernel.accessAllowed ? 'block' : 'none';\n",
              "\n",
              "      async function convertToInteractive(key) {\n",
              "        const element = document.querySelector('#df-89d2cb7f-bcb5-483f-babd-ddd0474bd0df');\n",
              "        const dataTable =\n",
              "          await google.colab.kernel.invokeFunction('convertToInteractive',\n",
              "                                                    [key], {});\n",
              "        if (!dataTable) return;\n",
              "\n",
              "        const docLinkHtml = 'Like what you see? Visit the ' +\n",
              "          '<a target=\"_blank\" href=https://colab.research.google.com/notebooks/data_table.ipynb>data table notebook</a>'\n",
              "          + ' to learn more about interactive tables.';\n",
              "        element.innerHTML = '';\n",
              "        dataTable['output_type'] = 'display_data';\n",
              "        await google.colab.output.renderOutput(dataTable, element);\n",
              "        const docLink = document.createElement('div');\n",
              "        docLink.innerHTML = docLinkHtml;\n",
              "        element.appendChild(docLink);\n",
              "      }\n",
              "    </script>\n",
              "  </div>\n",
              "\n",
              "\n",
              "<div id=\"df-60be5417-af36-48df-b708-b1ad62eb6d22\">\n",
              "  <button class=\"colab-df-quickchart\" onclick=\"quickchart('df-60be5417-af36-48df-b708-b1ad62eb6d22')\"\n",
              "            title=\"Suggest charts.\"\n",
              "            style=\"display:none;\">\n",
              "\n",
              "<svg xmlns=\"http://www.w3.org/2000/svg\" height=\"24px\"viewBox=\"0 0 24 24\"\n",
              "     width=\"24px\">\n",
              "    <g>\n",
              "        <path d=\"M19 3H5c-1.1 0-2 .9-2 2v14c0 1.1.9 2 2 2h14c1.1 0 2-.9 2-2V5c0-1.1-.9-2-2-2zM9 17H7v-7h2v7zm4 0h-2V7h2v10zm4 0h-2v-4h2v4z\"/>\n",
              "    </g>\n",
              "</svg>\n",
              "  </button>\n",
              "\n",
              "<style>\n",
              "  .colab-df-quickchart {\n",
              "      --bg-color: #E8F0FE;\n",
              "      --fill-color: #1967D2;\n",
              "      --hover-bg-color: #E2EBFA;\n",
              "      --hover-fill-color: #174EA6;\n",
              "      --disabled-fill-color: #AAA;\n",
              "      --disabled-bg-color: #DDD;\n",
              "  }\n",
              "\n",
              "  [theme=dark] .colab-df-quickchart {\n",
              "      --bg-color: #3B4455;\n",
              "      --fill-color: #D2E3FC;\n",
              "      --hover-bg-color: #434B5C;\n",
              "      --hover-fill-color: #FFFFFF;\n",
              "      --disabled-bg-color: #3B4455;\n",
              "      --disabled-fill-color: #666;\n",
              "  }\n",
              "\n",
              "  .colab-df-quickchart {\n",
              "    background-color: var(--bg-color);\n",
              "    border: none;\n",
              "    border-radius: 50%;\n",
              "    cursor: pointer;\n",
              "    display: none;\n",
              "    fill: var(--fill-color);\n",
              "    height: 32px;\n",
              "    padding: 0;\n",
              "    width: 32px;\n",
              "  }\n",
              "\n",
              "  .colab-df-quickchart:hover {\n",
              "    background-color: var(--hover-bg-color);\n",
              "    box-shadow: 0 1px 2px rgba(60, 64, 67, 0.3), 0 1px 3px 1px rgba(60, 64, 67, 0.15);\n",
              "    fill: var(--button-hover-fill-color);\n",
              "  }\n",
              "\n",
              "  .colab-df-quickchart-complete:disabled,\n",
              "  .colab-df-quickchart-complete:disabled:hover {\n",
              "    background-color: var(--disabled-bg-color);\n",
              "    fill: var(--disabled-fill-color);\n",
              "    box-shadow: none;\n",
              "  }\n",
              "\n",
              "  .colab-df-spinner {\n",
              "    border: 2px solid var(--fill-color);\n",
              "    border-color: transparent;\n",
              "    border-bottom-color: var(--fill-color);\n",
              "    animation:\n",
              "      spin 1s steps(1) infinite;\n",
              "  }\n",
              "\n",
              "  @keyframes spin {\n",
              "    0% {\n",
              "      border-color: transparent;\n",
              "      border-bottom-color: var(--fill-color);\n",
              "      border-left-color: var(--fill-color);\n",
              "    }\n",
              "    20% {\n",
              "      border-color: transparent;\n",
              "      border-left-color: var(--fill-color);\n",
              "      border-top-color: var(--fill-color);\n",
              "    }\n",
              "    30% {\n",
              "      border-color: transparent;\n",
              "      border-left-color: var(--fill-color);\n",
              "      border-top-color: var(--fill-color);\n",
              "      border-right-color: var(--fill-color);\n",
              "    }\n",
              "    40% {\n",
              "      border-color: transparent;\n",
              "      border-right-color: var(--fill-color);\n",
              "      border-top-color: var(--fill-color);\n",
              "    }\n",
              "    60% {\n",
              "      border-color: transparent;\n",
              "      border-right-color: var(--fill-color);\n",
              "    }\n",
              "    80% {\n",
              "      border-color: transparent;\n",
              "      border-right-color: var(--fill-color);\n",
              "      border-bottom-color: var(--fill-color);\n",
              "    }\n",
              "    90% {\n",
              "      border-color: transparent;\n",
              "      border-bottom-color: var(--fill-color);\n",
              "    }\n",
              "  }\n",
              "</style>\n",
              "\n",
              "  <script>\n",
              "    async function quickchart(key) {\n",
              "      const quickchartButtonEl =\n",
              "        document.querySelector('#' + key + ' button');\n",
              "      quickchartButtonEl.disabled = true;  // To prevent multiple clicks.\n",
              "      quickchartButtonEl.classList.add('colab-df-spinner');\n",
              "      try {\n",
              "        const charts = await google.colab.kernel.invokeFunction(\n",
              "            'suggestCharts', [key], {});\n",
              "      } catch (error) {\n",
              "        console.error('Error during call to suggestCharts:', error);\n",
              "      }\n",
              "      quickchartButtonEl.classList.remove('colab-df-spinner');\n",
              "      quickchartButtonEl.classList.add('colab-df-quickchart-complete');\n",
              "    }\n",
              "    (() => {\n",
              "      let quickchartButtonEl =\n",
              "        document.querySelector('#df-60be5417-af36-48df-b708-b1ad62eb6d22 button');\n",
              "      quickchartButtonEl.style.display =\n",
              "        google.colab.kernel.accessAllowed ? 'block' : 'none';\n",
              "    })();\n",
              "  </script>\n",
              "</div>\n",
              "    </div>\n",
              "  </div>\n"
            ]
          },
          "metadata": {},
          "execution_count": 7
        }
      ],
      "source": [
        "df.head()"
      ]
    },
    {
      "cell_type": "code",
      "execution_count": null,
      "metadata": {
        "id": "dvnSGA-hdPhL",
        "colab": {
          "base_uri": "https://localhost:8080/"
        },
        "outputId": "a2694549-aee5-4a74-93a9-0707586278ae"
      },
      "outputs": [
        {
          "output_type": "stream",
          "name": "stdout",
          "text": [
            "<class 'pandas.core.frame.DataFrame'>\n",
            "RangeIndex: 50000 entries, 0 to 49999\n",
            "Data columns (total 2 columns):\n",
            " #   Column     Non-Null Count  Dtype \n",
            "---  ------     --------------  ----- \n",
            " 0   Review     50000 non-null  object\n",
            " 1   Sentiment  50000 non-null  object\n",
            "dtypes: object(2)\n",
            "memory usage: 781.4+ KB\n"
          ]
        }
      ],
      "source": [
        "df.info()"
      ]
    },
    {
      "cell_type": "code",
      "execution_count": null,
      "metadata": {
        "id": "UZ22eVI8dVIX",
        "colab": {
          "base_uri": "https://localhost:8080/"
        },
        "outputId": "f5edda71-87f8-40c2-90e4-7b9c373fac7e"
      },
      "outputs": [
        {
          "output_type": "execute_result",
          "data": {
            "text/plain": [
              "positive    25000\n",
              "negative    25000\n",
              "Name: Sentiment, dtype: int64"
            ]
          },
          "metadata": {},
          "execution_count": 9
        }
      ],
      "source": [
        "df[\"Sentiment\"].value_counts()"
      ]
    },
    {
      "cell_type": "code",
      "execution_count": null,
      "metadata": {
        "id": "O1Tozb4MdbP4",
        "colab": {
          "base_uri": "https://localhost:8080/"
        },
        "outputId": "06a6c626-a7ee-4f6a-b8ab-c3e3925aa8ce"
      },
      "outputs": [
        {
          "output_type": "stream",
          "name": "stdout",
          "text": [
            "A wonderful little production. <br /><br />The filming technique is very unassuming- very old-time-BBC fashion and gives a comforting, and sometimes discomforting, sense of realism to the entire piece. <br /><br />The actors are extremely well chosen- Michael Sheen not only \"has got all the polari\" but he has all the voices down pat too! You can truly see the seamless editing guided by the references to Williams' diary entries, not only is it well worth the watching but it is a terrificly written and performed piece. A masterful production about one of the great master's of comedy and his life. <br /><br />The realism really comes home with the little things: the fantasy of the guard which, rather than use the traditional 'dream' techniques remains solid then disappears. It plays on our knowledge and our senses, particularly with the scenes concerning Orton and Halliwell and the sets (particularly of their flat with Halliwell's murals decorating every surface) are terribly well done.\n"
          ]
        }
      ],
      "source": [
        "test = df[\"Review\"][1]\n",
        "print(test)"
      ]
    },
    {
      "cell_type": "markdown",
      "source": [
        "Following fuction takes sentence and preparse it for traning by: <br>\n",
        "1 Converting the word to lower case <br>\n",
        "2 Removing html '< br />< br />' tag <br>\n",
        "3 Removing non letter characters <br>\n",
        "4 Removing stop words <br>\n",
        "5 Lemmatizing words eg. gives -> give <br>"
      ],
      "metadata": {
        "id": "qxBkqwDBBmcy"
      }
    },
    {
      "cell_type": "code",
      "execution_count": null,
      "metadata": {
        "id": "MtzGHbj_oDuf"
      },
      "outputs": [],
      "source": [
        "def prep_sentence(sentence):\n",
        "  lemmatizer = WordNetLemmatizer()\n",
        "  sentence = sentence.lower()\n",
        "  sentence = sentence.replace(\"<br /><br />\",\" \")\n",
        "  sentence = re.sub(\"\\'\", \"\",sentence)\n",
        "  sentence = re.sub(r'[^a-z]', ' ', sentence)\n",
        "\n",
        "  sentence = sentence.split()\n",
        "  stop_words = set(stopwords.words('english'))\n",
        "  for word in sentence:\n",
        "    if word in stop_words:\n",
        "      sentence.remove(word)\n",
        "  for i in range(len(sentence)):\n",
        "    sentence[i] = lemmatizer.lemmatize(sentence[i])\n",
        "\n",
        "  return \" \".join(sentence)"
      ]
    },
    {
      "cell_type": "code",
      "execution_count": null,
      "metadata": {
        "id": "Dhuz7U3woy4s",
        "colab": {
          "base_uri": "https://localhost:8080/"
        },
        "outputId": "1cd32b39-54a7-45dc-a256-d586753d424a"
      },
      "outputs": [
        {
          "output_type": "stream",
          "name": "stdout",
          "text": [
            "wonderful little production filming technique unassuming very old time bbc fashion give comforting sometimes discomforting sense realism entire piece actor extremely well chosen michael sheen only got polari he all voice pat you truly see seamless editing guided reference williams diary entry only well worth watching it terrificly written performed piece a masterful production one the great master comedy his life the realism really come home the little thing the fantasy the guard rather use the traditional dream technique remains solid disappears it play our knowledge our sens particularly the scene concerning orton halliwell the set particularly their flat halliwells mural decorating every surface terribly well done\n"
          ]
        }
      ],
      "source": [
        "print(prep_sentence(test))"
      ]
    },
    {
      "cell_type": "code",
      "execution_count": null,
      "metadata": {
        "id": "xEbogA8V6NVP",
        "colab": {
          "base_uri": "https://localhost:8080/"
        },
        "outputId": "a2cb52c7-47cb-4a0b-e703-fff70ed39b56"
      },
      "outputs": [
        {
          "output_type": "stream",
          "name": "stdout",
          "text": [
            "0\n",
            "0\n"
          ]
        }
      ],
      "source": [
        "print(df[\"Review\"].isnull().sum())\n",
        "print(df[\"Sentiment\"].isnull().sum())"
      ]
    },
    {
      "cell_type": "code",
      "execution_count": null,
      "metadata": {
        "id": "0uVFVsRNJkr2"
      },
      "outputs": [],
      "source": [
        "df[\"Processed_review\"] = df['Review'].apply(prep_sentence)"
      ]
    },
    {
      "cell_type": "code",
      "execution_count": null,
      "metadata": {
        "id": "hdVficheIsoi",
        "colab": {
          "base_uri": "https://localhost:8080/"
        },
        "outputId": "f608ccec-9adb-4b35-9f9c-6c0d45a2f7bf"
      },
      "outputs": [
        {
          "output_type": "execute_result",
          "data": {
            "text/plain": [
              "0        one reviewer mentioned after watching oz episo...\n",
              "1        wonderful little production filming technique ...\n",
              "2        thought wonderful way spend time hot summer we...\n",
              "3        basically there family little boy jake think t...\n",
              "4        petter matteis love time money visually stunni...\n",
              "                               ...                        \n",
              "49995    thought movie right good job wasnt creative or...\n",
              "49996    bad plot bad dialogue bad acting idiotic direc...\n",
              "49997    am catholic taught parochial elementary school...\n",
              "49998    im going have disagree previous comment side m...\n",
              "49999    one expects star trek movie be high art fan ex...\n",
              "Name: Processed_review, Length: 50000, dtype: object"
            ]
          },
          "metadata": {},
          "execution_count": 15
        }
      ],
      "source": [
        "df[\"Processed_review\"]"
      ]
    },
    {
      "cell_type": "markdown",
      "source": [
        "Since majority of reviews are between 0 and 250 words long, we decided to make word limit 250"
      ],
      "metadata": {
        "id": "MNM0GOE_Dddm"
      }
    },
    {
      "cell_type": "code",
      "execution_count": null,
      "metadata": {
        "id": "FcN34xQ4P7WO",
        "colab": {
          "base_uri": "https://localhost:8080/",
          "height": 467
        },
        "outputId": "98ab1287-b256-4c98-f824-0c00a0dc40f5"
      },
      "outputs": [
        {
          "output_type": "execute_result",
          "data": {
            "text/plain": [
              "<Axes: xlabel='Processed_review', ylabel='Count'>"
            ]
          },
          "metadata": {},
          "execution_count": 16
        },
        {
          "output_type": "display_data",
          "data": {
            "text/plain": [
              "<Figure size 640x480 with 1 Axes>"
            ],
            "image/png": "[encoded data removed]"
          },
          "metadata": {}
        }
      ],
      "source": [
        "sns.histplot(df[\"Processed_review\"].apply(lambda x: len(x.split())))"
      ]
    },
    {
      "cell_type": "code",
      "execution_count": null,
      "metadata": {
        "id": "-BQ44rngQxDD",
        "colab": {
          "base_uri": "https://localhost:8080/"
        },
        "outputId": "0935a05e-d7b8-4b67-b197-af6b53ece971"
      },
      "outputs": [
        {
          "output_type": "stream",
          "name": "stdout",
          "text": [
            "1 positive\n",
            "1 positive\n",
            "1 positive\n",
            "0 negative\n",
            "1 positive\n",
            "1 positive\n",
            "1 positive\n",
            "0 negative\n",
            "0 negative\n",
            "1 positive\n"
          ]
        }
      ],
      "source": [
        "y_labels = []\n",
        "for sentiment in df[\"Sentiment\"]:\n",
        "  if sentiment == \"positive\":\n",
        "    y_labels.append(1)\n",
        "  else:\n",
        "    y_labels.append(0)\n",
        "\n",
        "y_labels = np.array(y_labels)\n",
        "\n",
        "for i in range(0,10):\n",
        "  print(y_labels[i],df[\"Sentiment\"][i])"
      ]
    },
    {
      "cell_type": "code",
      "execution_count": null,
      "metadata": {
        "id": "p-NgLxCfIxx-"
      },
      "outputs": [],
      "source": [
        "maxwords = 10000\n",
        "max_len = 250\n",
        "x_data = list(df[\"Processed_review\"])"
      ]
    },
    {
      "cell_type": "code",
      "execution_count": null,
      "metadata": {
        "id": "nATwNPqXRh8e"
      },
      "outputs": [],
      "source": [
        "X_train_raw, X_test_raw, y_train, y_test = train_test_split(x_data, y_labels, test_size=0.2, random_state=101)"
      ]
    },
    {
      "cell_type": "code",
      "execution_count": null,
      "metadata": {
        "id": "dC95YG4APOXQ"
      },
      "outputs": [],
      "source": [
        "tokenizer = Tokenizer(num_words=maxwords)\n",
        "tokenizer.fit_on_texts(X_train_raw)\n",
        "X_train = tokenizer.texts_to_sequences(X_train_raw)\n",
        "X_test = tokenizer.texts_to_sequences(X_test_raw)\n",
        "X_train = np.array(pad_sequences(X_train, maxlen=max_len))\n",
        "X_test = np.array(pad_sequences(X_test, maxlen=max_len))"
      ]
    },
    {
      "cell_type": "code",
      "execution_count": null,
      "metadata": {
        "id": "Dag310mGQjDb",
        "colab": {
          "base_uri": "https://localhost:8080/"
        },
        "outputId": "5bdf9e23-cc91-4dd1-a9af-6b443f15da41"
      },
      "outputs": [
        {
          "output_type": "stream",
          "name": "stdout",
          "text": [
            "(40000, 250)\n",
            "(10000, 250)\n"
          ]
        }
      ],
      "source": [
        "print(X_train.shape)\n",
        "print(X_test.shape)"
      ]
    },
    {
      "cell_type": "markdown",
      "source": [
        "This functions will be needed in predictions analysis"
      ],
      "metadata": {
        "id": "8h67q7eLEBKz"
      }
    },
    {
      "cell_type": "code",
      "source": [
        "def get_len(x):\n",
        "  for i in range(len(x)):\n",
        "    if(x[i]!=0):\n",
        "      return len(x)-i\n",
        "  return 0"
      ],
      "metadata": {
        "id": "7u575Pki8dum"
      },
      "execution_count": null,
      "outputs": []
    },
    {
      "cell_type": "code",
      "source": [
        "def to_cat(i):\n",
        "  if(i<0.5):\n",
        "    return 0\n",
        "  else:\n",
        "    return 1"
      ],
      "metadata": {
        "id": "ghW1FTMf8ekH"
      },
      "execution_count": null,
      "outputs": []
    },
    {
      "cell_type": "markdown",
      "source": [
        "# LSTM\n"
      ],
      "metadata": {
        "id": "ig_qJHicL7K0"
      }
    },
    {
      "cell_type": "markdown",
      "source": [
        "## What is LSTM?\n",
        "Lstm stands for Long Short-Term Memory. LSTM unit includes cell and gates - input, output and forget gate. Forget gate decides just simply which information is important and worth to remember and which should be rejected (0 or 1). Input gate places information in current state. Output gate decides which part of information is worth going to output.\n",
        "Such solution is useful because the crucial information is in long term memory and have impact but less important infomation do not fill needlessly memory."
      ],
      "metadata": {
        "id": "Cs3yBCg1huyd"
      }
    },
    {
      "cell_type": "markdown",
      "source": [
        "The reason why we mention LSTM here is the fact that LSTM which is reccurent neural networks, gives good results while working with sequences of words and here in reviews we have full sentences."
      ],
      "metadata": {
        "id": "MwygDyLLsHG2"
      }
    },
    {
      "cell_type": "code",
      "execution_count": null,
      "metadata": {
        "id": "KOdfoQO8T6P8"
      },
      "outputs": [],
      "source": [
        "def make_lstm_model():\n",
        "  model = Sequential()\n",
        "  model.add(Embedding(maxwords,25))\n",
        "  model.add(CuDNNLSTM(48))\n",
        "  model.add(Dense(1,activation = \"sigmoid\"))\n",
        "  model.summary()\n",
        "  model.compile(optimizer=Adam(learning_rate=0.01),loss=\"binary_crossentropy\",metrics = \"accuracy\")\n",
        "  return model"
      ]
    },
    {
      "cell_type": "markdown",
      "source": [
        "I started playing with models to make accuracy as high as I can, I assumed that accuracy about 0.9 will be my goal."
      ],
      "metadata": {
        "id": "qi7zr2Yzk63P"
      }
    },
    {
      "cell_type": "code",
      "execution_count": null,
      "metadata": {
        "id": "abMJiR5nX1BF",
        "colab": {
          "base_uri": "https://localhost:8080/"
        },
        "outputId": "27dfee10-f440-44b7-f779-56cb9463c5df"
      },
      "outputs": [
        {
          "output_type": "stream",
          "name": "stdout",
          "text": [
            "Model: \"sequential\"\n",
            "_________________________________________________________________\n",
            " Layer (type)                Output Shape              Param #   \n",
            "=================================================================\n",
            " embedding (Embedding)       (None, None, 25)          250000    \n",
            "                                                                 \n",
            " cu_dnnlstm (CuDNNLSTM)      (None, 48)                14400     \n",
            "                                                                 \n",
            " dense (Dense)               (None, 1)                 49        \n",
            "                                                                 \n",
            "=================================================================\n",
            "Total params: 264,449\n",
            "Trainable params: 264,449\n",
            "Non-trainable params: 0\n",
            "_________________________________________________________________\n",
            "Epoch 1/10\n",
            "157/157 [==============================] - 40s 205ms/step - loss: 0.4505 - accuracy: 0.7897 - val_loss: 0.3268 - val_accuracy: 0.8644\n",
            "Epoch 2/10\n",
            "157/157 [==============================] - 23s 146ms/step - loss: 0.2678 - accuracy: 0.8961 - val_loss: 0.2711 - val_accuracy: 0.8862\n",
            "Epoch 3/10\n",
            "157/157 [==============================] - 17s 108ms/step - loss: 0.1939 - accuracy: 0.9278 - val_loss: 0.2832 - val_accuracy: 0.8878\n",
            "Epoch 4/10\n",
            "157/157 [==============================] - 11s 68ms/step - loss: 0.1410 - accuracy: 0.9487 - val_loss: 0.3052 - val_accuracy: 0.8789\n",
            "Epoch 5/10\n",
            "157/157 [==============================] - 12s 76ms/step - loss: 0.1035 - accuracy: 0.9640 - val_loss: 0.3479 - val_accuracy: 0.8807\n",
            "Epoch 6/10\n",
            "157/157 [==============================] - 7s 46ms/step - loss: 0.0781 - accuracy: 0.9722 - val_loss: 0.4031 - val_accuracy: 0.8774\n",
            "Epoch 7/10\n",
            "157/157 [==============================] - 6s 38ms/step - loss: 0.0664 - accuracy: 0.9769 - val_loss: 0.4244 - val_accuracy: 0.8766\n",
            "Epoch 8/10\n",
            "157/157 [==============================] - 8s 50ms/step - loss: 0.0578 - accuracy: 0.9802 - val_loss: 0.4786 - val_accuracy: 0.8748\n",
            "Epoch 9/10\n",
            "157/157 [==============================] - 5s 29ms/step - loss: 0.0499 - accuracy: 0.9838 - val_loss: 0.4509 - val_accuracy: 0.8747\n",
            "Epoch 10/10\n",
            "157/157 [==============================] - 4s 28ms/step - loss: 0.0382 - accuracy: 0.9871 - val_loss: 0.5207 - val_accuracy: 0.8769\n"
          ]
        },
        {
          "output_type": "execute_result",
          "data": {
            "text/plain": [
              "<keras.callbacks.History at 0x7fee8a5554b0>"
            ]
          },
          "metadata": {},
          "execution_count": 26
        }
      ],
      "source": [
        "model = make_lstm_model()\n",
        "model.fit(X_train,y_train,batch_size=256,epochs=10,validation_data=(X_test,y_test))"
      ]
    },
    {
      "cell_type": "code",
      "source": [
        "def make_lstm_model():\n",
        "  model2 = Sequential()\n",
        "  model2.add(Embedding(maxwords,25))\n",
        "  model2.add(CuDNNLSTM(48))\n",
        "  model2.add(Dense(1,activation = \"sigmoid\"))\n",
        "  model2.summary()\n",
        "  model2.compile(optimizer=Adam(learning_rate=0.02),loss=\"binary_crossentropy\",metrics = \"accuracy\")\n",
        "  return model2"
      ],
      "metadata": {
        "id": "lMhiiSC4GHB3"
      },
      "execution_count": null,
      "outputs": []
    },
    {
      "cell_type": "code",
      "source": [
        "model2 = make_lstm_model()\n",
        "model2.fit(X_train,y_train,batch_size=256,epochs=15,validation_data=(X_test,y_test))"
      ],
      "metadata": {
        "colab": {
          "base_uri": "https://localhost:8080/"
        },
        "id": "CzPkhsPYGHPG",
        "outputId": "3116bd26-be42-40c8-d1b2-4ec69eda530b"
      },
      "execution_count": null,
      "outputs": [
        {
          "output_type": "stream",
          "name": "stdout",
          "text": [
            "Model: \"sequential_14\"\n",
            "_________________________________________________________________\n",
            " Layer (type)                Output Shape              Param #   \n",
            "=================================================================\n",
            " embedding_14 (Embedding)    (None, None, 25)          250000    \n",
            "                                                                 \n",
            " cu_dnnlstm_14 (CuDNNLSTM)   (None, 48)                14400     \n",
            "                                                                 \n",
            " dense_22 (Dense)            (None, 1)                 49        \n",
            "                                                                 \n",
            "=================================================================\n",
            "Total params: 264,449\n",
            "Trainable params: 264,449\n",
            "Non-trainable params: 0\n",
            "_________________________________________________________________\n",
            "Epoch 1/15\n",
            "157/157 [==============================] - 25s 142ms/step - loss: 0.4341 - accuracy: 0.7893 - val_loss: 0.2758 - val_accuracy: 0.8882\n",
            "Epoch 2/15\n",
            "157/157 [==============================] - 17s 108ms/step - loss: 0.2210 - accuracy: 0.9132 - val_loss: 0.2498 - val_accuracy: 0.9010\n",
            "Epoch 3/15\n",
            "157/157 [==============================] - 13s 82ms/step - loss: 0.1527 - accuracy: 0.9444 - val_loss: 0.2748 - val_accuracy: 0.8923\n",
            "Epoch 4/15\n",
            "157/157 [==============================] - 11s 74ms/step - loss: 0.1050 - accuracy: 0.9631 - val_loss: 0.3091 - val_accuracy: 0.8844\n",
            "Epoch 5/15\n",
            "157/157 [==============================] - 8s 50ms/step - loss: 0.0801 - accuracy: 0.9718 - val_loss: 0.3655 - val_accuracy: 0.8844\n",
            "Epoch 6/15\n",
            "157/157 [==============================] - 9s 59ms/step - loss: 0.0579 - accuracy: 0.9809 - val_loss: 0.4257 - val_accuracy: 0.8804\n",
            "Epoch 7/15\n",
            "157/157 [==============================] - 9s 56ms/step - loss: 0.0457 - accuracy: 0.9844 - val_loss: 0.4803 - val_accuracy: 0.8869\n",
            "Epoch 8/15\n",
            "157/157 [==============================] - 7s 42ms/step - loss: 0.0413 - accuracy: 0.9858 - val_loss: 0.5117 - val_accuracy: 0.8813\n",
            "Epoch 9/15\n",
            "157/157 [==============================] - 5s 30ms/step - loss: 0.0295 - accuracy: 0.9904 - val_loss: 0.5355 - val_accuracy: 0.8793\n",
            "Epoch 10/15\n",
            "157/157 [==============================] - 4s 28ms/step - loss: 0.0309 - accuracy: 0.9894 - val_loss: 0.5274 - val_accuracy: 0.8775\n",
            "Epoch 11/15\n",
            "157/157 [==============================] - 8s 48ms/step - loss: 0.0321 - accuracy: 0.9891 - val_loss: 0.5813 - val_accuracy: 0.8793\n",
            "Epoch 12/15\n",
            "157/157 [==============================] - 4s 22ms/step - loss: 0.0281 - accuracy: 0.9909 - val_loss: 0.5503 - val_accuracy: 0.8741\n",
            "Epoch 13/15\n",
            "157/157 [==============================] - 4s 27ms/step - loss: 0.0285 - accuracy: 0.9905 - val_loss: 0.6261 - val_accuracy: 0.8814\n",
            "Epoch 14/15\n",
            "157/157 [==============================] - 5s 33ms/step - loss: 0.0188 - accuracy: 0.9938 - val_loss: 0.6603 - val_accuracy: 0.8801\n",
            "Epoch 15/15\n",
            "157/157 [==============================] - 4s 23ms/step - loss: 0.0215 - accuracy: 0.9928 - val_loss: 0.7376 - val_accuracy: 0.8793\n"
          ]
        },
        {
          "output_type": "execute_result",
          "data": {
            "text/plain": [
              "<keras.callbacks.History at 0x7fedb40812a0>"
            ]
          },
          "metadata": {},
          "execution_count": 54
        }
      ]
    },
    {
      "cell_type": "code",
      "source": [
        "def make_lstm_model():\n",
        "  model3 = Sequential()\n",
        "  model3.add(Embedding(maxwords,25))\n",
        "  model3.add(CuDNNLSTM(32))\n",
        "  model3.add(Dense(1,activation = \"sigmoid\"))\n",
        "  model3.summary()\n",
        "  model3.compile(optimizer=Adam(learning_rate=0.03),loss=\"binary_crossentropy\",metrics = \"accuracy\")\n",
        "  return model3"
      ],
      "metadata": {
        "id": "uyru3ml-IiqB"
      },
      "execution_count": null,
      "outputs": []
    },
    {
      "cell_type": "code",
      "source": [
        "model3 = make_lstm_model()\n",
        "model3.fit(X_train,y_train,batch_size=256,epochs=10,validation_data=(X_test,y_test))"
      ],
      "metadata": {
        "colab": {
          "base_uri": "https://localhost:8080/"
        },
        "id": "xw2hF8HpIi1N",
        "outputId": "6aa35e95-2b6c-4c10-aec6-e365b0521a20"
      },
      "execution_count": null,
      "outputs": [
        {
          "output_type": "stream",
          "name": "stdout",
          "text": [
            "Model: \"sequential_6\"\n",
            "_________________________________________________________________\n",
            " Layer (type)                Output Shape              Param #   \n",
            "=================================================================\n",
            " embedding_6 (Embedding)     (None, None, 25)          250000    \n",
            "                                                                 \n",
            " cu_dnnlstm_6 (CuDNNLSTM)    (None, 32)                7552      \n",
            "                                                                 \n",
            " dense_6 (Dense)             (None, 1)                 33        \n",
            "                                                                 \n",
            "=================================================================\n",
            "Total params: 257,585\n",
            "Trainable params: 257,585\n",
            "Non-trainable params: 0\n",
            "_________________________________________________________________\n",
            "Epoch 1/10\n",
            "157/157 [==============================] - 26s 151ms/step - loss: 0.5690 - accuracy: 0.7036 - val_loss: 0.6731 - val_accuracy: 0.6000\n",
            "Epoch 2/10\n",
            "157/157 [==============================] - 17s 107ms/step - loss: 0.4753 - accuracy: 0.7788 - val_loss: 0.3557 - val_accuracy: 0.8497\n",
            "Epoch 3/10\n",
            "157/157 [==============================] - 12s 77ms/step - loss: 0.3026 - accuracy: 0.8792 - val_loss: 0.3651 - val_accuracy: 0.8587\n",
            "Epoch 4/10\n",
            "157/157 [==============================] - 10s 64ms/step - loss: 0.2327 - accuracy: 0.9114 - val_loss: 0.3027 - val_accuracy: 0.8795\n",
            "Epoch 5/10\n",
            "157/157 [==============================] - 8s 51ms/step - loss: 0.1836 - accuracy: 0.9320 - val_loss: 0.3342 - val_accuracy: 0.8724\n",
            "Epoch 6/10\n",
            "157/157 [==============================] - 7s 46ms/step - loss: 0.1457 - accuracy: 0.9483 - val_loss: 0.3452 - val_accuracy: 0.8778\n",
            "Epoch 7/10\n",
            "157/157 [==============================] - 5s 30ms/step - loss: 0.1246 - accuracy: 0.9568 - val_loss: 0.3635 - val_accuracy: 0.8783\n",
            "Epoch 8/10\n",
            "157/157 [==============================] - 5s 29ms/step - loss: 0.0999 - accuracy: 0.9664 - val_loss: 0.3921 - val_accuracy: 0.8708\n",
            "Epoch 9/10\n",
            "157/157 [==============================] - 6s 37ms/step - loss: 0.0866 - accuracy: 0.9718 - val_loss: 0.4251 - val_accuracy: 0.8729\n",
            "Epoch 10/10\n",
            "157/157 [==============================] - 4s 24ms/step - loss: 0.0803 - accuracy: 0.9724 - val_loss: 0.4502 - val_accuracy: 0.8717\n"
          ]
        },
        {
          "output_type": "execute_result",
          "data": {
            "text/plain": [
              "<keras.callbacks.History at 0x7fedfa276230>"
            ]
          },
          "metadata": {},
          "execution_count": 38
        }
      ]
    },
    {
      "cell_type": "code",
      "source": [
        "def make_lstm_model():\n",
        "  model4 = Sequential()\n",
        "  model4.add(Embedding(maxwords,25))\n",
        "  model4.add(CuDNNLSTM(32))\n",
        "  model4.add(Dense(64,activation=\"relu\"))\n",
        "  model4.add(Dense(1,activation = \"sigmoid\"))\n",
        "  model4.summary()\n",
        "  model4.compile(optimizer=Adam(learning_rate=0.03),loss=\"binary_crossentropy\",metrics = \"accuracy\")\n",
        "  return model4"
      ],
      "metadata": {
        "id": "iBkyXxg8KIKm"
      },
      "execution_count": null,
      "outputs": []
    },
    {
      "cell_type": "markdown",
      "source": [
        "Here I decided to add some layer"
      ],
      "metadata": {
        "id": "cEvWVJl2gyuT"
      }
    },
    {
      "cell_type": "code",
      "source": [
        "model4 = make_lstm_model()\n",
        "model4.fit(X_train,y_train,batch_size=150,epochs=15,validation_data=(X_test,y_test))"
      ],
      "metadata": {
        "colab": {
          "base_uri": "https://localhost:8080/"
        },
        "id": "06Yh_uaUKIVp",
        "outputId": "7a06611e-b5e6-4877-b256-6083819aa8c2"
      },
      "execution_count": null,
      "outputs": [
        {
          "output_type": "stream",
          "name": "stdout",
          "text": [
            "Model: \"sequential_8\"\n",
            "_________________________________________________________________\n",
            " Layer (type)                Output Shape              Param #   \n",
            "=================================================================\n",
            " embedding_8 (Embedding)     (None, None, 25)          250000    \n",
            "                                                                 \n",
            " cu_dnnlstm_8 (CuDNNLSTM)    (None, 32)                7552      \n",
            "                                                                 \n",
            " dense_9 (Dense)             (None, 64)                2112      \n",
            "                                                                 \n",
            " dense_10 (Dense)            (None, 1)                 65        \n",
            "                                                                 \n",
            "=================================================================\n",
            "Total params: 259,729\n",
            "Trainable params: 259,729\n",
            "Non-trainable params: 0\n",
            "_________________________________________________________________\n",
            "Epoch 1/15\n",
            "267/267 [==============================] - 50s 177ms/step - loss: 0.4881 - accuracy: 0.7742 - val_loss: 0.3670 - val_accuracy: 0.8427\n",
            "Epoch 2/15\n",
            "267/267 [==============================] - 29s 107ms/step - loss: 0.2908 - accuracy: 0.8832 - val_loss: 0.3001 - val_accuracy: 0.8762\n",
            "Epoch 3/15\n",
            "267/267 [==============================] - 20s 74ms/step - loss: 0.2233 - accuracy: 0.9133 - val_loss: 0.2887 - val_accuracy: 0.8842\n",
            "Epoch 4/15\n",
            "267/267 [==============================] - 13s 50ms/step - loss: 0.1858 - accuracy: 0.9302 - val_loss: 0.2995 - val_accuracy: 0.8888\n",
            "Epoch 5/15\n",
            "267/267 [==============================] - 8s 31ms/step - loss: 0.1594 - accuracy: 0.9405 - val_loss: 0.3050 - val_accuracy: 0.8846\n",
            "Epoch 6/15\n",
            "267/267 [==============================] - 9s 34ms/step - loss: 0.1419 - accuracy: 0.9466 - val_loss: 0.3332 - val_accuracy: 0.8865\n",
            "Epoch 7/15\n",
            "267/267 [==============================] - 8s 29ms/step - loss: 0.1348 - accuracy: 0.9491 - val_loss: 0.3416 - val_accuracy: 0.8807\n",
            "Epoch 8/15\n",
            "267/267 [==============================] - 8s 31ms/step - loss: 0.1266 - accuracy: 0.9535 - val_loss: 0.3635 - val_accuracy: 0.8787\n",
            "Epoch 9/15\n",
            "267/267 [==============================] - 12s 45ms/step - loss: 0.1282 - accuracy: 0.9519 - val_loss: 0.3773 - val_accuracy: 0.8781\n",
            "Epoch 10/15\n",
            "267/267 [==============================] - 5s 19ms/step - loss: 0.1226 - accuracy: 0.9541 - val_loss: 0.3528 - val_accuracy: 0.8744\n",
            "Epoch 11/15\n",
            "267/267 [==============================] - 6s 21ms/step - loss: 0.1158 - accuracy: 0.9571 - val_loss: 0.3783 - val_accuracy: 0.8791\n",
            "Epoch 12/15\n",
            "267/267 [==============================] - 6s 23ms/step - loss: 0.1111 - accuracy: 0.9599 - val_loss: 0.4090 - val_accuracy: 0.8735\n",
            "Epoch 13/15\n",
            "267/267 [==============================] - 4s 15ms/step - loss: 0.1130 - accuracy: 0.9578 - val_loss: 0.3945 - val_accuracy: 0.8715\n",
            "Epoch 14/15\n",
            "267/267 [==============================] - 6s 21ms/step - loss: 0.1143 - accuracy: 0.9573 - val_loss: 0.3897 - val_accuracy: 0.8702\n",
            "Epoch 15/15\n",
            "267/267 [==============================] - 4s 16ms/step - loss: 0.1105 - accuracy: 0.9596 - val_loss: 0.3958 - val_accuracy: 0.8690\n"
          ]
        },
        {
          "output_type": "execute_result",
          "data": {
            "text/plain": [
              "<keras.callbacks.History at 0x7fedec5e70a0>"
            ]
          },
          "metadata": {},
          "execution_count": 42
        }
      ]
    },
    {
      "cell_type": "code",
      "source": [
        "def make_lstm_model():\n",
        "  model5 = Sequential()\n",
        "  model5.add(Embedding(maxwords,25))\n",
        "  model5.add(CuDNNLSTM(32))\n",
        "  model5.add(Dense(32,activation=\"relu\"))\n",
        "  model5.add(Dense(1,activation = \"sigmoid\"))\n",
        "  model5.summary()\n",
        "  model5.compile(optimizer=Adam(learning_rate=0.02),loss=\"binary_crossentropy\",metrics = \"accuracy\")\n",
        "  return model5"
      ],
      "metadata": {
        "id": "0ydGHqcgMtgW"
      },
      "execution_count": null,
      "outputs": []
    },
    {
      "cell_type": "markdown",
      "source": [
        "Played with batch size, number of epochs and learning rate"
      ],
      "metadata": {
        "id": "clVxFxVZg-hQ"
      }
    },
    {
      "cell_type": "code",
      "source": [
        "model5 = make_lstm_model()\n",
        "model5.fit(X_train,y_train,batch_size=256,epochs=10,validation_data=(X_test,y_test))"
      ],
      "metadata": {
        "colab": {
          "base_uri": "https://localhost:8080/"
        },
        "id": "Bn8VmriqMtqi",
        "outputId": "2227071b-4ebd-4476-85a1-8270fbea6c4e"
      },
      "execution_count": null,
      "outputs": [
        {
          "output_type": "stream",
          "name": "stdout",
          "text": [
            "Model: \"sequential_31\"\n",
            "_________________________________________________________________\n",
            " Layer (type)                Output Shape              Param #   \n",
            "=================================================================\n",
            " embedding_22 (Embedding)    (None, None, 25)          250000    \n",
            "                                                                 \n",
            " cu_dnnlstm_27 (CuDNNLSTM)   (None, 32)                7552      \n",
            "                                                                 \n",
            " dense_28 (Dense)            (None, 32)                1056      \n",
            "                                                                 \n",
            " dense_29 (Dense)            (None, 1)                 33        \n",
            "                                                                 \n",
            "=================================================================\n",
            "Total params: 258,641\n",
            "Trainable params: 258,641\n",
            "Non-trainable params: 0\n",
            "_________________________________________________________________\n",
            "Epoch 1/10\n",
            "157/157 [==============================] - 26s 154ms/step - loss: 0.4568 - accuracy: 0.7884 - val_loss: 0.4179 - val_accuracy: 0.8277\n",
            "Epoch 2/10\n",
            "157/157 [==============================] - 16s 101ms/step - loss: 0.2820 - accuracy: 0.8850 - val_loss: 0.2804 - val_accuracy: 0.8827\n",
            "Epoch 3/10\n",
            "157/157 [==============================] - 11s 69ms/step - loss: 0.2015 - accuracy: 0.9206 - val_loss: 0.2883 - val_accuracy: 0.8857\n",
            "Epoch 4/10\n",
            "157/157 [==============================] - 10s 63ms/step - loss: 0.1664 - accuracy: 0.9377 - val_loss: 0.3287 - val_accuracy: 0.8798\n",
            "Epoch 5/10\n",
            "157/157 [==============================] - 7s 42ms/step - loss: 0.1286 - accuracy: 0.9520 - val_loss: 0.3269 - val_accuracy: 0.8839\n",
            "Epoch 6/10\n",
            "157/157 [==============================] - 8s 50ms/step - loss: 0.1029 - accuracy: 0.9624 - val_loss: 0.3709 - val_accuracy: 0.8841\n",
            "Epoch 7/10\n",
            "157/157 [==============================] - 5s 35ms/step - loss: 0.0779 - accuracy: 0.9717 - val_loss: 0.3751 - val_accuracy: 0.8772\n",
            "Epoch 8/10\n",
            "157/157 [==============================] - 5s 30ms/step - loss: 0.0680 - accuracy: 0.9762 - val_loss: 0.4492 - val_accuracy: 0.8793\n",
            "Epoch 9/10\n",
            "157/157 [==============================] - 4s 27ms/step - loss: 0.0541 - accuracy: 0.9815 - val_loss: 0.5390 - val_accuracy: 0.8804\n",
            "Epoch 10/10\n",
            "157/157 [==============================] - 4s 28ms/step - loss: 0.0525 - accuracy: 0.9828 - val_loss: 0.4751 - val_accuracy: 0.8785\n"
          ]
        },
        {
          "output_type": "execute_result",
          "data": {
            "text/plain": [
              "<keras.callbacks.History at 0x7fed786e3250>"
            ]
          },
          "metadata": {},
          "execution_count": 89
        }
      ]
    },
    {
      "cell_type": "code",
      "source": [
        "from keras.layers import LSTM, Dense, Bidirectional, Input,Dropout,BatchNormalization\n"
      ],
      "metadata": {
        "id": "CB_n6iSUPnXG"
      },
      "execution_count": null,
      "outputs": []
    },
    {
      "cell_type": "code",
      "source": [
        "def make_lstm_model():\n",
        "  model6 = Sequential()\n",
        "  model6.add(Embedding(maxwords,25))\n",
        "  model6.add(CuDNNLSTM(64))\n",
        "  model6.add(Dense(64,activation=\"relu\"))\n",
        "  model6.add(Dense(1,activation=\"sigmoid\"))\n",
        "  model6.summary()\n",
        "  model6.compile(optimizer=Adam(learning_rate=0.03),loss=\"binary_crossentropy\",metrics = \"accuracy\")\n",
        "  return model6"
      ],
      "metadata": {
        "id": "AAeWRVjMNwkN"
      },
      "execution_count": null,
      "outputs": []
    },
    {
      "cell_type": "code",
      "source": [
        "model6 = make_lstm_model()\n",
        "model6.fit(X_train,y_train,batch_size=300,epochs=15,validation_data=(X_test,y_test))"
      ],
      "metadata": {
        "colab": {
          "base_uri": "https://localhost:8080/"
        },
        "id": "1HDVNw7GNxEL",
        "outputId": "df31e16f-9214-4502-8c54-626e96cc8ad6"
      },
      "execution_count": null,
      "outputs": [
        {
          "output_type": "stream",
          "name": "stdout",
          "text": [
            "Model: \"sequential\"\n",
            "_________________________________________________________________\n",
            " Layer (type)                Output Shape              Param #   \n",
            "=================================================================\n",
            " embedding (Embedding)       (None, None, 25)          250000    \n",
            "                                                                 \n",
            " cu_dnnlstm (CuDNNLSTM)      (None, 64)                23296     \n",
            "                                                                 \n",
            " dense (Dense)               (None, 64)                4160      \n",
            "                                                                 \n",
            " dense_1 (Dense)             (None, 1)                 65        \n",
            "                                                                 \n",
            "=================================================================\n",
            "Total params: 277,521\n",
            "Trainable params: 277,521\n",
            "Non-trainable params: 0\n",
            "_________________________________________________________________\n",
            "Epoch 1/15\n",
            "134/134 [==============================] - 38s 210ms/step - loss: 0.4762 - accuracy: 0.7766 - val_loss: 0.3198 - val_accuracy: 0.8674\n",
            "Epoch 2/15\n",
            "134/134 [==============================] - 19s 140ms/step - loss: 0.2618 - accuracy: 0.8954 - val_loss: 0.2813 - val_accuracy: 0.8795\n",
            "Epoch 3/15\n",
            "134/134 [==============================] - 18s 136ms/step - loss: 0.1960 - accuracy: 0.9257 - val_loss: 0.2734 - val_accuracy: 0.8940\n",
            "Epoch 4/15\n",
            "134/134 [==============================] - 12s 93ms/step - loss: 0.1552 - accuracy: 0.9427 - val_loss: 0.2987 - val_accuracy: 0.8895\n",
            "Epoch 5/15\n",
            "134/134 [==============================] - 12s 87ms/step - loss: 0.1322 - accuracy: 0.9510 - val_loss: 0.3050 - val_accuracy: 0.8889\n",
            "Epoch 6/15\n",
            "134/134 [==============================] - 10s 73ms/step - loss: 0.1063 - accuracy: 0.9617 - val_loss: 0.3309 - val_accuracy: 0.8905\n",
            "Epoch 7/15\n",
            "134/134 [==============================] - 6s 48ms/step - loss: 0.0989 - accuracy: 0.9642 - val_loss: 0.3779 - val_accuracy: 0.8856\n",
            "Epoch 8/15\n",
            "134/134 [==============================] - 7s 52ms/step - loss: 0.0897 - accuracy: 0.9682 - val_loss: 0.3791 - val_accuracy: 0.8874\n",
            "Epoch 9/15\n",
            "134/134 [==============================] - 6s 47ms/step - loss: 0.0795 - accuracy: 0.9711 - val_loss: 0.4314 - val_accuracy: 0.8826\n",
            "Epoch 10/15\n",
            "134/134 [==============================] - 9s 67ms/step - loss: 0.0734 - accuracy: 0.9743 - val_loss: 0.4303 - val_accuracy: 0.8812\n",
            "Epoch 11/15\n",
            "134/134 [==============================] - 4s 28ms/step - loss: 0.0703 - accuracy: 0.9745 - val_loss: 0.4393 - val_accuracy: 0.8768\n",
            "Epoch 12/15\n",
            "134/134 [==============================] - 5s 39ms/step - loss: 0.0805 - accuracy: 0.9707 - val_loss: 0.4205 - val_accuracy: 0.8818\n",
            "Epoch 13/15\n",
            "134/134 [==============================] - 4s 29ms/step - loss: 0.0678 - accuracy: 0.9748 - val_loss: 0.4647 - val_accuracy: 0.8788\n",
            "Epoch 14/15\n",
            "134/134 [==============================] - 3s 24ms/step - loss: 0.0749 - accuracy: 0.9730 - val_loss: 0.4363 - val_accuracy: 0.8720\n",
            "Epoch 15/15\n",
            "134/134 [==============================] - 9s 68ms/step - loss: 0.0743 - accuracy: 0.9726 - val_loss: 0.4610 - val_accuracy: 0.8753\n"
          ]
        },
        {
          "output_type": "execute_result",
          "data": {
            "text/plain": [
              "<keras.callbacks.History at 0x7f00cca9fc10>"
            ]
          },
          "metadata": {},
          "execution_count": 28
        }
      ]
    },
    {
      "cell_type": "code",
      "source": [
        "def make_lstm_model():\n",
        "  model7 = Sequential()\n",
        "  model7.add(Embedding(maxwords,25))\n",
        "  model7.add(CuDNNLSTM(32))\n",
        "  model7.add(Dense(32,activation=\"relu\"))\n",
        "  model7.add(Dense(64,activation=\"relu\"))\n",
        "  model7.add(Dropout(0.2))\n",
        "  model7.add(Dense(1,activation=\"sigmoid\"))\n",
        "  model7.summary()\n",
        "  model7.compile(optimizer=Adam(learning_rate=0.02),loss=\"binary_crossentropy\",metrics = \"accuracy\")\n",
        "  return model7"
      ],
      "metadata": {
        "id": "wgF1DQlxYsq6"
      },
      "execution_count": null,
      "outputs": []
    },
    {
      "cell_type": "markdown",
      "source": [
        "Decided to use dropout to make better results"
      ],
      "metadata": {
        "id": "n0obavtIrkVH"
      }
    },
    {
      "cell_type": "code",
      "source": [
        "model7 = make_lstm_model()\n",
        "model7.fit(X_train,y_train,batch_size=300,epochs=15,validation_data=(X_test,y_test))"
      ],
      "metadata": {
        "colab": {
          "base_uri": "https://localhost:8080/"
        },
        "id": "ej5nAe_oYs8R",
        "outputId": "116e109b-05c2-4fd5-c645-749db6934a38"
      },
      "execution_count": null,
      "outputs": [
        {
          "output_type": "stream",
          "name": "stdout",
          "text": [
            "Model: \"sequential_4\"\n",
            "_________________________________________________________________\n",
            " Layer (type)                Output Shape              Param #   \n",
            "=================================================================\n",
            " embedding_4 (Embedding)     (None, None, 25)          250000    \n",
            "                                                                 \n",
            " cu_dnnlstm_4 (CuDNNLSTM)    (None, 32)                7552      \n",
            "                                                                 \n",
            " dense_10 (Dense)            (None, 32)                1056      \n",
            "                                                                 \n",
            " dense_11 (Dense)            (None, 64)                2112      \n",
            "                                                                 \n",
            " dropout_1 (Dropout)         (None, 64)                0         \n",
            "                                                                 \n",
            " dense_12 (Dense)            (None, 1)                 65        \n",
            "                                                                 \n",
            "=================================================================\n",
            "Total params: 260,785\n",
            "Trainable params: 260,785\n",
            "Non-trainable params: 0\n",
            "_________________________________________________________________\n",
            "Epoch 1/15\n",
            "134/134 [==============================] - 22s 143ms/step - loss: 0.4834 - accuracy: 0.7656 - val_loss: 0.3125 - val_accuracy: 0.8716\n",
            "Epoch 2/15\n",
            "134/134 [==============================] - 17s 122ms/step - loss: 0.2368 - accuracy: 0.9093 - val_loss: 0.2596 - val_accuracy: 0.8985\n",
            "Epoch 3/15\n",
            "134/134 [==============================] - 10s 76ms/step - loss: 0.1629 - accuracy: 0.9412 - val_loss: 0.3030 - val_accuracy: 0.8991\n",
            "Epoch 4/15\n",
            "134/134 [==============================] - 10s 78ms/step - loss: 0.1125 - accuracy: 0.9613 - val_loss: 0.2929 - val_accuracy: 0.8924\n",
            "Epoch 5/15\n",
            "134/134 [==============================] - 8s 57ms/step - loss: 0.0861 - accuracy: 0.9692 - val_loss: 0.4230 - val_accuracy: 0.8911\n",
            "Epoch 6/15\n",
            "134/134 [==============================] - 6s 45ms/step - loss: 0.0636 - accuracy: 0.9783 - val_loss: 0.4419 - val_accuracy: 0.8847\n",
            "Epoch 7/15\n",
            "134/134 [==============================] - 6s 46ms/step - loss: 0.0507 - accuracy: 0.9829 - val_loss: 0.5029 - val_accuracy: 0.8839\n",
            "Epoch 8/15\n",
            "134/134 [==============================] - 5s 34ms/step - loss: 0.0421 - accuracy: 0.9855 - val_loss: 0.5344 - val_accuracy: 0.8813\n",
            "Epoch 9/15\n",
            "134/134 [==============================] - 4s 31ms/step - loss: 0.0391 - accuracy: 0.9867 - val_loss: 0.4615 - val_accuracy: 0.8798\n",
            "Epoch 10/15\n",
            "134/134 [==============================] - 5s 35ms/step - loss: 0.0319 - accuracy: 0.9900 - val_loss: 0.5585 - val_accuracy: 0.8836\n",
            "Epoch 11/15\n",
            "134/134 [==============================] - 4s 27ms/step - loss: 0.0272 - accuracy: 0.9907 - val_loss: 0.5691 - val_accuracy: 0.8798\n",
            "Epoch 12/15\n",
            "134/134 [==============================] - 3s 25ms/step - loss: 0.0260 - accuracy: 0.9912 - val_loss: 0.7279 - val_accuracy: 0.8816\n",
            "Epoch 13/15\n",
            "134/134 [==============================] - 4s 31ms/step - loss: 0.0182 - accuracy: 0.9943 - val_loss: 0.6910 - val_accuracy: 0.8808\n",
            "Epoch 14/15\n",
            "134/134 [==============================] - 4s 30ms/step - loss: 0.0228 - accuracy: 0.9926 - val_loss: 0.5479 - val_accuracy: 0.8790\n",
            "Epoch 15/15\n",
            "134/134 [==============================] - 3s 23ms/step - loss: 0.0223 - accuracy: 0.9926 - val_loss: 0.7105 - val_accuracy: 0.8801\n"
          ]
        },
        {
          "output_type": "execute_result",
          "data": {
            "text/plain": [
              "<keras.callbacks.History at 0x7f00401114b0>"
            ]
          },
          "metadata": {},
          "execution_count": 36
        }
      ]
    },
    {
      "cell_type": "markdown",
      "source": [
        "First model where I succeeded in crossing 0.88 accuracy"
      ],
      "metadata": {
        "id": "Dieybd-ypwTi"
      }
    },
    {
      "cell_type": "code",
      "source": [
        "def make_lstm_model():\n",
        "  model8 = Sequential()\n",
        "  model8.add(Embedding(maxwords,25))\n",
        "  model8.add(CuDNNLSTM(64))\n",
        "  model8.add(Dense(64,activation=\"relu\"))\n",
        "  model8.add(Dropout(0.1))\n",
        "  model8.add(Dense(64,activation=\"relu\"))\n",
        "  model8.add(Dropout(0.2))\n",
        "  model8.add(Dense(1,activation=\"sigmoid\"))\n",
        "  model8.summary()\n",
        "  model8.compile(optimizer=Adam(learning_rate=0.02),loss=\"binary_crossentropy\",metrics = \"accuracy\")\n",
        "  return model8"
      ],
      "metadata": {
        "id": "Dr_WBm8ZcW6I"
      },
      "execution_count": null,
      "outputs": []
    },
    {
      "cell_type": "code",
      "source": [
        "model8 = make_lstm_model()\n",
        "model8.fit(X_train,y_train,batch_size=500,epochs=10,validation_data=(X_test,y_test))"
      ],
      "metadata": {
        "colab": {
          "base_uri": "https://localhost:8080/"
        },
        "id": "6NzebGidcXJg",
        "outputId": "58675103-c399-4c88-b000-0b570f83e36f"
      },
      "execution_count": null,
      "outputs": [
        {
          "output_type": "stream",
          "name": "stdout",
          "text": [
            "Model: \"sequential_17\"\n",
            "_________________________________________________________________\n",
            " Layer (type)                Output Shape              Param #   \n",
            "=================================================================\n",
            " embedding_12 (Embedding)    (None, None, 25)          250000    \n",
            "                                                                 \n",
            " cu_dnnlstm_17 (CuDNNLSTM)   (None, 64)                23296     \n",
            "                                                                 \n",
            " dense_36 (Dense)            (None, 64)                4160      \n",
            "                                                                 \n",
            " dropout_17 (Dropout)        (None, 64)                0         \n",
            "                                                                 \n",
            " dense_37 (Dense)            (None, 64)                4160      \n",
            "                                                                 \n",
            " dropout_18 (Dropout)        (None, 64)                0         \n",
            "                                                                 \n",
            " dense_38 (Dense)            (None, 1)                 65        \n",
            "                                                                 \n",
            "=================================================================\n",
            "Total params: 281,681\n",
            "Trainable params: 281,681\n",
            "Non-trainable params: 0\n",
            "_________________________________________________________________\n",
            "Epoch 1/10\n",
            "80/80 [==============================] - 17s 180ms/step - loss: 0.5658 - accuracy: 0.7122 - val_loss: 0.3993 - val_accuracy: 0.8337\n",
            "Epoch 2/10\n",
            "80/80 [==============================] - 12s 145ms/step - loss: 0.3298 - accuracy: 0.8685 - val_loss: 0.3214 - val_accuracy: 0.8696\n",
            "Epoch 3/10\n",
            "80/80 [==============================] - 10s 119ms/step - loss: 0.2297 - accuracy: 0.9126 - val_loss: 0.2651 - val_accuracy: 0.8956\n",
            "Epoch 4/10\n",
            "80/80 [==============================] - 7s 91ms/step - loss: 0.1654 - accuracy: 0.9389 - val_loss: 0.2864 - val_accuracy: 0.8904\n",
            "Epoch 5/10\n",
            "80/80 [==============================] - 8s 98ms/step - loss: 0.1250 - accuracy: 0.9547 - val_loss: 0.3532 - val_accuracy: 0.8863\n",
            "Epoch 6/10\n",
            "80/80 [==============================] - 6s 79ms/step - loss: 0.0930 - accuracy: 0.9672 - val_loss: 0.4078 - val_accuracy: 0.8828\n",
            "Epoch 7/10\n",
            "80/80 [==============================] - 5s 66ms/step - loss: 0.0733 - accuracy: 0.9753 - val_loss: 0.4061 - val_accuracy: 0.8778\n",
            "Epoch 8/10\n",
            "80/80 [==============================] - 4s 45ms/step - loss: 0.0635 - accuracy: 0.9790 - val_loss: 0.4421 - val_accuracy: 0.8800\n",
            "Epoch 9/10\n",
            "80/80 [==============================] - 4s 46ms/step - loss: 0.0540 - accuracy: 0.9813 - val_loss: 0.4753 - val_accuracy: 0.8808\n",
            "Epoch 10/10\n",
            "80/80 [==============================] - 4s 48ms/step - loss: 0.0409 - accuracy: 0.9867 - val_loss: 0.4611 - val_accuracy: 0.8797\n"
          ]
        },
        {
          "output_type": "execute_result",
          "data": {
            "text/plain": [
              "<keras.callbacks.History at 0x7f0029b9ba60>"
            ]
          },
          "metadata": {},
          "execution_count": 69
        }
      ]
    },
    {
      "cell_type": "markdown",
      "source": [
        "I had a problem with overtraining my dataset so I tried to make learning rate lower etc\n"
      ],
      "metadata": {
        "id": "yJixaeeTgHQP"
      }
    },
    {
      "cell_type": "code",
      "source": [
        "def make_lstm_model():\n",
        "  model = Sequential()\n",
        "  model.add(Embedding(maxwords,25))\n",
        "  model.add(CuDNNLSTM(64))\n",
        "  model.add(Dropout(0.5))\n",
        "  model.add(Dense(64,activation=\"relu\"))\n",
        "  model.add(Dropout(0.5))\n",
        "  model.add(Dense(1,activation=\"sigmoid\"))\n",
        "  model.summary()\n",
        "  model.compile(optimizer=Adam(learning_rate=0.01),loss=\"binary_crossentropy\",metrics = \"accuracy\")\n",
        "  return model"
      ],
      "metadata": {
        "id": "6EGvKppn7Nqu"
      },
      "execution_count": null,
      "outputs": []
    },
    {
      "cell_type": "code",
      "source": [
        "model9 = make_lstm_model()\n",
        "model9.fit(X_train,y_train,batch_size=500,epochs=5,validation_data=(X_test,y_test))"
      ],
      "metadata": {
        "colab": {
          "base_uri": "https://localhost:8080/"
        },
        "id": "KAxV36g4e6uw",
        "outputId": "5cc93a82-e750-41b4-ee42-8c9b1bfbeacc"
      },
      "execution_count": null,
      "outputs": [
        {
          "output_type": "stream",
          "name": "stdout",
          "text": [
            "Model: \"sequential_1\"\n",
            "_________________________________________________________________\n",
            " Layer (type)                Output Shape              Param #   \n",
            "=================================================================\n",
            " embedding_1 (Embedding)     (None, None, 25)          250000    \n",
            "                                                                 \n",
            " cu_dnnlstm_1 (CuDNNLSTM)    (None, 64)                23296     \n",
            "                                                                 \n",
            " dropout_2 (Dropout)         (None, 64)                0         \n",
            "                                                                 \n",
            " dense_3 (Dense)             (None, 64)                4160      \n",
            "                                                                 \n",
            " dropout_3 (Dropout)         (None, 64)                0         \n",
            "                                                                 \n",
            " dense_4 (Dense)             (None, 1)                 65        \n",
            "                                                                 \n",
            "=================================================================\n",
            "Total params: 277,521\n",
            "Trainable params: 277,521\n",
            "Non-trainable params: 0\n",
            "_________________________________________________________________\n",
            "Epoch 1/5\n",
            "80/80 [==============================] - 15s 167ms/step - loss: 0.5376 - accuracy: 0.7328 - val_loss: 0.3507 - val_accuracy: 0.8598\n",
            "Epoch 2/5\n",
            "80/80 [==============================] - 11s 131ms/step - loss: 0.3061 - accuracy: 0.8805 - val_loss: 0.2887 - val_accuracy: 0.8818\n",
            "Epoch 3/5\n",
            "80/80 [==============================] - 11s 145ms/step - loss: 0.2291 - accuracy: 0.9124 - val_loss: 0.3063 - val_accuracy: 0.8772\n",
            "Epoch 4/5\n",
            "80/80 [==============================] - 6s 71ms/step - loss: 0.1912 - accuracy: 0.9295 - val_loss: 0.3110 - val_accuracy: 0.8877\n",
            "Epoch 5/5\n",
            "80/80 [==============================] - 6s 76ms/step - loss: 0.1318 - accuracy: 0.9525 - val_loss: 0.3397 - val_accuracy: 0.8823\n"
          ]
        },
        {
          "output_type": "execute_result",
          "data": {
            "text/plain": [
              "<keras.callbacks.History at 0x7fd73dd35270>"
            ]
          },
          "metadata": {},
          "execution_count": 27
        }
      ]
    },
    {
      "cell_type": "code",
      "source": [
        "predictions = model9.predict(X_test)"
      ],
      "metadata": {
        "colab": {
          "base_uri": "https://localhost:8080/"
        },
        "id": "R-xV_0MA669d",
        "outputId": "9a6bd7e7-e32a-4751-c78a-2c4b612ceb21"
      },
      "execution_count": null,
      "outputs": [
        {
          "output_type": "stream",
          "name": "stdout",
          "text": [
            "313/313 [==============================] - 1s 5ms/step\n"
          ]
        }
      ]
    },
    {
      "cell_type": "markdown",
      "source": [
        "I did not achieve the 0.9 goal despite the fact that I tried and created much more models than here is presented. But for now the result about 0.882 is satisfying."
      ],
      "metadata": {
        "id": "2IgpS9vvqEyj"
      }
    },
    {
      "cell_type": "code",
      "source": [
        "predictions = [ to_cat(i) for i in predictions]"
      ],
      "metadata": {
        "id": "TrCXLj6nqH24"
      },
      "execution_count": null,
      "outputs": []
    },
    {
      "cell_type": "code",
      "source": [
        "df = pd.DataFrame(predictions, columns = [\"pred\"])\n",
        "df[\"true_val\"] = y_test\n",
        "df[\"is_true\"] = (df[\"true_val\"] == df[\"pred\"])\n",
        "df[\"len\"] = pd.Series([get_len(i) for i in X_test])"
      ],
      "metadata": {
        "id": "Iqs76KJVqLOO"
      },
      "execution_count": null,
      "outputs": []
    },
    {
      "cell_type": "code",
      "source": [
        "sns.histplot(data = df, x = \"len\",hue = \"is_true\")"
      ],
      "metadata": {
        "colab": {
          "base_uri": "https://localhost:8080/",
          "height": 466
        },
        "id": "x-P7O4nbfryt",
        "outputId": "99c8cccc-faae-4520-cb61-a441afa33e89"
      },
      "execution_count": null,
      "outputs": [
        {
          "output_type": "execute_result",
          "data": {
            "text/plain": [
              "<Axes: xlabel='len', ylabel='Count'>"
            ]
          },
          "metadata": {},
          "execution_count": 31
        },
        {
          "output_type": "display_data",
          "data": {
            "text/plain": [
              "<Figure size 640x480 with 1 Axes>"
            ],
            "image/png": "[encoded data removed]"
          },
          "metadata": {}
        }
      ]
    },
    {
      "cell_type": "markdown",
      "source": [
        "# CNN"
      ],
      "metadata": {
        "id": "vCVev9NdL-vz"
      }
    },
    {
      "cell_type": "markdown",
      "source": [
        "A Convolutional Neural Network (CNN) is a type of artificial neural network designed specifically for processing and analyzing visual data, such as images and videos. CNNs are widely used in computer vision tasks like image classification, object detection, facial recognition, and more. They are inspired by the human visual system's ability to identify patterns and features in visual information."
      ],
      "metadata": {
        "id": "QoHFh7NS-vz4"
      }
    },
    {
      "cell_type": "code",
      "execution_count": null,
      "metadata": {
        "id": "ft9pwISlZ-fS"
      },
      "outputs": [],
      "source": [
        "def make_CNN_model():\n",
        "  model = Sequential()\n",
        "  model.add(Input(shape=(250,)))\n",
        "  model.add(Embedding(maxwords,25))\n",
        "  model.add(Conv1D(64,5,padding = \"same\",activation = \"relu\"))\n",
        "\n",
        "  model.add(Flatten())\n",
        "  model.add(Dense(64,activation=\"relu\"))\n",
        "  model.add(Dense(32,activation=\"relu\"))\n",
        "  model.add(Dense(16,activation = \"relu\"))\n",
        "  model.add(Dense(1,activation = \"sigmoid\"))\n",
        "  model.compile(optimizer=Adam(learning_rate=0.0001),loss=\"binary_crossentropy\",metrics = \"accuracy\")\n",
        "  return model"
      ]
    },
    {
      "cell_type": "code",
      "source": [
        "y_train.shape"
      ],
      "metadata": {
        "id": "y1XpkH6qBj39",
        "colab": {
          "base_uri": "https://localhost:8080/"
        },
        "outputId": "fcda24d0-3160-42c6-cf11-941e3f5fb782"
      },
      "execution_count": null,
      "outputs": [
        {
          "output_type": "execute_result",
          "data": {
            "text/plain": [
              "(40000,)"
            ]
          },
          "metadata": {},
          "execution_count": 25
        }
      ]
    },
    {
      "cell_type": "code",
      "source": [
        "X_train_conv = X_train.reshape(X_train.shape[0],X_train.shape[1],1).astype(float)\n",
        "X_test_conv = X_test.reshape(X_test.shape[0],X_test.shape[1],1).astype(float)\n",
        "y_train_conv = y_train.reshape(y_train.shape[0],1).astype(float)\n",
        "y_test_conv = y_test.reshape(y_test.shape[0],1).astype(float)"
      ],
      "metadata": {
        "id": "DD1oTnGRA6NV"
      },
      "execution_count": null,
      "outputs": []
    },
    {
      "cell_type": "code",
      "execution_count": null,
      "metadata": {
        "id": "nfGpNIHUrAmk",
        "colab": {
          "base_uri": "https://localhost:8080/"
        },
        "outputId": "894a3e30-9a9c-46be-eb10-c63f4a7113f7"
      },
      "outputs": [
        {
          "output_type": "stream",
          "name": "stdout",
          "text": [
            "Epoch 1/10\n",
            "157/157 [==============================] - 46s 210ms/step - loss: 0.6928 - accuracy: 0.5109 - val_loss: 0.6923 - val_accuracy: 0.5207\n",
            "Epoch 2/10\n",
            "157/157 [==============================] - 20s 130ms/step - loss: 0.5972 - accuracy: 0.6933 - val_loss: 0.3554 - val_accuracy: 0.8513\n",
            "Epoch 3/10\n",
            "157/157 [==============================] - 14s 87ms/step - loss: 0.2880 - accuracy: 0.8824 - val_loss: 0.2791 - val_accuracy: 0.8861\n",
            "Epoch 4/10\n",
            "157/157 [==============================] - 13s 83ms/step - loss: 0.2272 - accuracy: 0.9115 - val_loss: 0.2646 - val_accuracy: 0.8926\n",
            "Epoch 5/10\n",
            "157/157 [==============================] - 8s 52ms/step - loss: 0.1973 - accuracy: 0.9252 - val_loss: 0.2732 - val_accuracy: 0.8876\n",
            "Epoch 6/10\n",
            "157/157 [==============================] - 8s 52ms/step - loss: 0.1778 - accuracy: 0.9333 - val_loss: 0.2663 - val_accuracy: 0.8931\n",
            "Epoch 7/10\n",
            "157/157 [==============================] - 5s 33ms/step - loss: 0.1602 - accuracy: 0.9419 - val_loss: 0.2716 - val_accuracy: 0.8924\n",
            "Epoch 8/10\n",
            "157/157 [==============================] - 6s 40ms/step - loss: 0.1473 - accuracy: 0.9474 - val_loss: 0.2824 - val_accuracy: 0.8910\n",
            "Epoch 9/10\n",
            "157/157 [==============================] - 4s 28ms/step - loss: 0.1351 - accuracy: 0.9522 - val_loss: 0.3031 - val_accuracy: 0.8877\n",
            "Epoch 10/10\n",
            "157/157 [==============================] - 4s 23ms/step - loss: 0.1242 - accuracy: 0.9586 - val_loss: 0.3057 - val_accuracy: 0.8889\n"
          ]
        },
        {
          "output_type": "execute_result",
          "data": {
            "text/plain": [
              "<keras.callbacks.History at 0x78064d556c50>"
            ]
          },
          "metadata": {},
          "execution_count": 27
        }
      ],
      "source": [
        "model = make_CNN_model()\n",
        "model.fit(X_train_conv,y_train_conv,batch_size=256,epochs=10,validation_data=(X_test_conv,y_test_conv))"
      ]
    },
    {
      "cell_type": "code",
      "source": [
        "X_train.shape"
      ],
      "metadata": {
        "id": "z9KJw5yKDP_A",
        "colab": {
          "base_uri": "https://localhost:8080/"
        },
        "outputId": "456db8c8-d121-4ac5-8bfd-fedbf1b1b4dc"
      },
      "execution_count": null,
      "outputs": [
        {
          "output_type": "execute_result",
          "data": {
            "text/plain": [
              "(40000, 250)"
            ]
          },
          "metadata": {},
          "execution_count": 28
        }
      ]
    },
    {
      "cell_type": "code",
      "source": [
        "pred_test = model.predict(X_test_conv)\n",
        "pred_test = [ to_cat(i) for i in pred_test]\n",
        "df = pd.DataFrame(pred_test, columns = [\"pred\"])\n",
        "df[\"true_val\"] = y_test\n",
        "df[\"is_true\"] = (df[\"true_val\"] == df[\"pred\"])\n",
        "df[\"len\"] = pd.Series([get_len(i) for i in X_test])"
      ],
      "metadata": {
        "id": "xdx43mEwv-Xi",
        "colab": {
          "base_uri": "https://localhost:8080/"
        },
        "outputId": "115b5f0a-61e9-4c51-a458-dd8e23c83f3c"
      },
      "execution_count": null,
      "outputs": [
        {
          "output_type": "stream",
          "name": "stdout",
          "text": [
            "313/313 [==============================] - 1s 2ms/step\n"
          ]
        }
      ]
    },
    {
      "cell_type": "code",
      "source": [
        "sns.histplot(data = df, x = \"len\",hue = \"is_true\")"
      ],
      "metadata": {
        "id": "qcv7iHb5t-G6",
        "outputId": "b0557a39-8872-436c-94c0-3ea0744cbbb2",
        "colab": {
          "base_uri": "https://localhost:8080/",
          "height": 466
        }
      },
      "execution_count": null,
      "outputs": [
        {
          "output_type": "execute_result",
          "data": {
            "text/plain": [
              "<Axes: xlabel='len', ylabel='Count'>"
            ]
          },
          "metadata": {},
          "execution_count": 30
        },
        {
          "output_type": "display_data",
          "data": {
            "text/plain": [
              "<Figure size 640x480 with 1 Axes>"
            ],
            "image/png": "[encoded data removed]"
          },
          "metadata": {}
        }
      ]
    },
    {
      "cell_type": "markdown",
      "source": [
        "# ATTENTION"
      ],
      "metadata": {
        "id": "j4ql7IdDMCWq"
      }
    },
    {
      "cell_type": "markdown",
      "source": [
        "Our third model is an attention based network. It uses embeding to convert words into numerical vectors for our networks input, embeding layers are also trained, after some epochs they place the words in vector space where distance between them is correlated to their meaning, the closer the words the closer the meaning. Next layers are multihead attention layers. Single attention layer finds relevant information in the data by multiplying queries and keys which essentially is like looking for correlation between words in text. Multihead attention is many attention layers connected parallel to each other. This mechanism has certain advantages over LSTM and CNN models, mainly its not affected by exploding gradients problem, this means that no matter how far 2 words are in the text, network wont have a problem with corelating their meaning. This type of layer is backbone of the Transformer architecture which is used in many NLP aplications like LLM's for example ChatGPT or LLaMA. After multihead attention are fully concted layers and an output layer for making prediction. I used keras tuner to find good set of hyperparameters."
      ],
      "metadata": {
        "id": "7mhbJ3jTENGG"
      }
    },
    {
      "cell_type": "code",
      "source": [
        "class AttentionHP(HyperModel):\n",
        "\n",
        "\n",
        "  def build(self, hp):\n",
        "\n",
        "    inputs = Input(shape=(250,1))\n",
        "\n",
        "    embeding = Embedding(10000,25)(inputs)\n",
        "\n",
        "    attention = MultiHeadAttention(num_heads=hp.Int('Number_of_heads', min_value=4, max_value=12, step=2), ekey_dim=64)(embeding, embeding)\n",
        "\n",
        "\n",
        "\n",
        "    flatten = Flatten()(attention)\n",
        "\n",
        "\n",
        "    dense = Dense(units=64, activation='relu')(flatten)\n",
        "\n",
        "    for i in range(hp.Int(\"nubmer Of extra deep layers\",min_value=1, max_value=2)):\n",
        "      dense = Dense(units= hp.Int(f\"units_{i+1}_layer\", min_value=32, max_value=64, step=16), activation='relu')(dense)\n",
        "\n",
        "    drop = Dropout(0.4)(dense)\n",
        "\n",
        "\n",
        "    outputs = Dense(units=1, activation='sigmoid')(dense)\n",
        "\n",
        "    model = Model(inputs=inputs, outputs=outputs)\n",
        "\n",
        "    model.compile(optimizer=Adam(learning_rate=0.01),loss=\"binary_crossentropy\",metrics = \"accuracy\")\n",
        "    return model"
      ],
      "metadata": {
        "id": "4cl2moSz7-nv"
      },
      "execution_count": null,
      "outputs": []
    },
    {
      "cell_type": "code",
      "source": [
        "tuner = RandomSearch(\n",
        "    AttentionHP(),\n",
        "    objective='val_accuracy',\n",
        "    max_trials=8,\n",
        "    executions_per_trial=1,\n",
        "    directory='Atention_logs'\n",
        ")"
      ],
      "metadata": {
        "id": "23LMhCyx9_hx"
      },
      "execution_count": null,
      "outputs": []
    },
    {
      "cell_type": "code",
      "source": [
        "stop_early = tf.keras.callbacks.EarlyStopping(monitor='val_loss', patience=5)"
      ],
      "metadata": {
        "id": "ER0qVaFJ9F8n"
      },
      "execution_count": null,
      "outputs": []
    },
    {
      "cell_type": "code",
      "source": [
        "tuner.search(X_train, y_train, epochs=10,batch_size = 256, validation_data=(X_test,y_test), callbacks = [stop_early])"
      ],
      "metadata": {
        "colab": {
          "base_uri": "https://localhost:8080/"
        },
        "id": "YhB4yD4Q-3sM",
        "outputId": "2d53d646-2023-4696-cb55-1c998c0d8159"
      },
      "execution_count": null,
      "outputs": [
        {
          "output_type": "stream",
          "name": "stdout",
          "text": [
            "Trial 8 Complete [00h 04m 06s]\n",
            "val_accuracy: 0.8953999876976013\n",
            "\n",
            "Best val_accuracy So Far: 0.8953999876976013\n",
            "Total elapsed time: 00h 28m 56s\n"
          ]
        }
      ]
    },
    {
      "cell_type": "code",
      "source": [
        "attention_model = tuner.get_best_models(num_models=1)[0]"
      ],
      "metadata": {
        "id": "Gxo-ie_681IV"
      },
      "execution_count": null,
      "outputs": []
    },
    {
      "cell_type": "code",
      "source": [
        "predictions =  attention_model.predict(X_test)"
      ],
      "metadata": {
        "id": "XDfXL1-u1466",
        "colab": {
          "base_uri": "https://localhost:8080/"
        },
        "outputId": "e638db89-1d81-4a61-a02d-7a405bb99ee9"
      },
      "execution_count": null,
      "outputs": [
        {
          "output_type": "stream",
          "name": "stdout",
          "text": [
            "313/313 [==============================] - 3s 10ms/step\n"
          ]
        }
      ]
    },
    {
      "cell_type": "code",
      "source": [
        "predictions = [ to_cat(i) for i in predictions]"
      ],
      "metadata": {
        "id": "TTQ5-VXAIy36"
      },
      "execution_count": null,
      "outputs": []
    },
    {
      "cell_type": "code",
      "source": [
        "print(classification_report(y_test,predictions))"
      ],
      "metadata": {
        "colab": {
          "base_uri": "https://localhost:8080/"
        },
        "id": "b95JG-02IF-I",
        "outputId": "c33a51f9-e651-4607-b677-d4e37c4e7704"
      },
      "execution_count": null,
      "outputs": [
        {
          "output_type": "stream",
          "name": "stdout",
          "text": [
            "              precision    recall  f1-score   support\n",
            "\n",
            "           0       0.91      0.88      0.89      4959\n",
            "           1       0.89      0.91      0.90      5041\n",
            "\n",
            "    accuracy                           0.90     10000\n",
            "   macro avg       0.90      0.90      0.90     10000\n",
            "weighted avg       0.90      0.90      0.90     10000\n",
            "\n"
          ]
        }
      ]
    },
    {
      "cell_type": "code",
      "source": [
        "print(pd.DataFrame(confusion_matrix(y_test,predictions),columns = [\"Positive values\", \"Negative values\"],\n",
        "                   index = [\"Positive guesses\", \"Negative guesses\"]))"
      ],
      "metadata": {
        "colab": {
          "base_uri": "https://localhost:8080/"
        },
        "id": "xWRch4OkJhKg",
        "outputId": "3ed7832a-2f99-4bd6-db98-8730e29dbe20"
      },
      "execution_count": null,
      "outputs": [
        {
          "output_type": "stream",
          "name": "stdout",
          "text": [
            "                  Positive values  Negative values\n",
            "Positive guesses             4365              594\n",
            "Negative guesses              452             4589\n"
          ]
        }
      ]
    },
    {
      "cell_type": "code",
      "source": [
        "X_test[0]"
      ],
      "metadata": {
        "colab": {
          "base_uri": "https://localhost:8080/"
        },
        "id": "FPpdBNliM4zM",
        "outputId": "04c40429-c9c5-4b19-a2bb-c444b57508b7"
      },
      "execution_count": null,
      "outputs": [
        {
          "output_type": "execute_result",
          "data": {
            "text/plain": [
              "array([   0,    0,    0,    0,    0,    0,    0,    0,    0,    0,    0,\n",
              "          0,    0,    0,    0,    0,    0,    0,    0,    0,    0,    0,\n",
              "          0,    0,    0,    0,    0,    0,    0,    0,    0,    0,    0,\n",
              "          0,    0,    0,    0,    0,    0,    0,    0,    0,    0,    0,\n",
              "          0,    0,    0,    0,    0,    0,    0,    0,    0,    0,    0,\n",
              "          0,    0,    0,    0,    0,    0,    0,    0,    0,    0,    0,\n",
              "          0,    0,    0,    0,    0,    0,    0,    0,    0,    0,    0,\n",
              "          0,    0,    0,    0,    0,    0,    0,    0,    0,    0,    0,\n",
              "          0,    0,    0,    0,    0,    0,    0,    0,    0,    0,    0,\n",
              "          0,    0,    0,    0,    0,    0,    0,    0,    0,    0,    0,\n",
              "          0,    0,    0,    0,    0,    0,    0,    0,    0,    0,    0,\n",
              "          0,    0,    0,    0,    0,    0,    0,    0,    0,    0,    0,\n",
              "          0,    0,    0,    0,    0,    0,    0,    0,    0,    0,    0,\n",
              "          0,    0,    0,    0,    0,    0,    0,    0,    0,    0,    0,\n",
              "          0,    0,    0,    0,    0,    0,    0,    0,    0,    0,    0,\n",
              "          0,    0,    0,    0,    0,    0,    0,    0,    0,    0,    0,\n",
              "          0,    0,    0,    0,    0,    0,    0,    0,    0,    0,    0,\n",
              "          0,    0,    0,    0,    0,    0,    0,    0,    0,    0,    0,\n",
              "          0,    0,    0,    0,    0,    0,    0,    0,    0,    0,    0,\n",
              "          0,    0,    0,    0,    0,   46,   57,  186,  852,  241, 1874,\n",
              "        149,   17, 1069,    5, 4632, 2624, 8186,   60,  921,  938,  116,\n",
              "          5,  177, 1677, 7274,  520,   28,  397,  256,  285,  374,    5,\n",
              "         51,  279, 1876,    2,  171,   78, 5079, 9053], dtype=int32)"
            ]
          },
          "metadata": {},
          "execution_count": 52
        }
      ]
    },
    {
      "cell_type": "code",
      "source": [
        "df = pd.DataFrame(predictions, columns = [\"pred\"])\n",
        "df[\"true_val\"] = y_test\n",
        "df[\"is_true\"] = (df[\"true_val\"] == df[\"pred\"])\n",
        "df[\"len\"] = pd.Series([get_len(i) for i in X_test])"
      ],
      "metadata": {
        "id": "f16PCJffKhm1"
      },
      "execution_count": null,
      "outputs": []
    },
    {
      "cell_type": "code",
      "source": [
        "sns.histplot(data = df, x = \"len\",hue = \"is_true\")"
      ],
      "metadata": {
        "colab": {
          "base_uri": "https://localhost:8080/",
          "height": 467
        },
        "id": "yBIZbejAMdxJ",
        "outputId": "eb65e157-f7be-45c0-ec96-7227145a6e8a"
      },
      "execution_count": null,
      "outputs": [
        {
          "output_type": "execute_result",
          "data": {
            "text/plain": [
              "<Axes: xlabel='len', ylabel='Count'>"
            ]
          },
          "metadata": {},
          "execution_count": 60
        },
        {
          "output_type": "display_data",
          "data": {
            "text/plain": [
              "<Figure size 640x480 with 1 Axes>"
            ],
            "image/png": "[encoded data removed]"
          },
          "metadata": {}
        }
      ]
    },
    {
      "cell_type": "markdown",
      "source": [
        "# Summary\n",
        "All of our aproches produced models that achived around 90% accuracy. Because our reviews weren't very long we didn't have problems with exploding gradients thus LSTM's and CNN's got good results. This type of sentiment analysis is very common task for data enginers and there are many more aproches than we showed like bidirectional LSTM's or unsupervised aproches like K means clustering. <br><br>\n",
        "\n",
        "This project was created by: <br>\n",
        "Marta Figurska <br>\n",
        "Marcel Raczek <br>\n",
        "Jan Gorczyński <br>"
      ],
      "metadata": {
        "id": "wkUz7ky8IYgV"
      }
    },
    {
      "cell_type": "markdown",
      "source": [
        "# Bonus section\n",
        "Recently there was a paper describing new method of sentiment analysis using KNN algorithm with zip compression based distance metric. We decided to test this aproach on our data and were shocked when it achived 90% accuracy. Since this aproach is very computationally expensive in python we only tested on sample with 100 examples."
      ],
      "metadata": {
        "id": "twkWZFbjKMiK"
      }
    },
    {
      "cell_type": "code",
      "source": [
        "df"
      ],
      "metadata": {
        "colab": {
          "base_uri": "https://localhost:8080/",
          "height": 423
        },
        "id": "K1_HZyUtc_dN",
        "outputId": "5ce4ea36-51d8-4b22-a4b1-99a67683b435"
      },
      "execution_count": null,
      "outputs": [
        {
          "output_type": "execute_result",
          "data": {
            "text/plain": [
              "                                                  Review Sentiment  \\\n",
              "0      One of the other reviewers has mentioned that ...  positive   \n",
              "1      A wonderful little production. <br /><br />The...  positive   \n",
              "2      I thought this was a wonderful way to spend ti...  positive   \n",
              "3      Basically there's a family where a little boy ...  negative   \n",
              "4      Petter Mattei's \"Love in the Time of Money\" is...  positive   \n",
              "...                                                  ...       ...   \n",
              "49995  I thought this movie did a down right good job...  positive   \n",
              "49996  Bad plot, bad dialogue, bad acting, idiotic di...  negative   \n",
              "49997  I am a Catholic taught in parochial elementary...  negative   \n",
              "49998  I'm going to have to disagree with the previou...  negative   \n",
              "49999  No one expects the Star Trek movies to be high...  negative   \n",
              "\n",
              "                                        Processed_review  \n",
              "0      one reviewer mentioned after watching oz episo...  \n",
              "1      wonderful little production filming technique ...  \n",
              "2      thought wonderful way spend time hot summer we...  \n",
              "3      basically there family little boy jake think t...  \n",
              "4      petter matteis love time money visually stunni...  \n",
              "...                                                  ...  \n",
              "49995  thought movie right good job wasnt creative or...  \n",
              "49996  bad plot bad dialogue bad acting idiotic direc...  \n",
              "49997  am catholic taught parochial elementary school...  \n",
              "49998  im going have disagree previous comment side m...  \n",
              "49999  one expects star trek movie be high art fan ex...  \n",
              "\n",
              "[50000 rows x 3 columns]"
            ],
            "text/html": [
              "\n",
              "\n",
              "  <div id=\"df-08c081d7-825d-4c67-a242-d8d789f360e5\">\n",
              "    <div class=\"colab-df-container\">\n",
              "      <div>\n",
              "<style scoped>\n",
              "    .dataframe tbody tr th:only-of-type {\n",
              "        vertical-align: middle;\n",
              "    }\n",
              "\n",
              "    .dataframe tbody tr th {\n",
              "        vertical-align: top;\n",
              "    }\n",
              "\n",
              "    .dataframe thead th {\n",
              "        text-align: right;\n",
              "    }\n",
              "</style>\n",
              "<table border=\"1\" class=\"dataframe\">\n",
              "  <thead>\n",
              "    <tr style=\"text-align: right;\">\n",
              "      <th></th>\n",
              "      <th>Review</th>\n",
              "      <th>Sentiment</th>\n",
              "      <th>Processed_review</th>\n",
              "    </tr>\n",
              "  </thead>\n",
              "  <tbody>\n",
              "    <tr>\n",
              "      <th>0</th>\n",
              "      <td>One of the other reviewers has mentioned that ...</td>\n",
              "      <td>positive</td>\n",
              "      <td>one reviewer mentioned after watching oz episo...</td>\n",
              "    </tr>\n",
              "    <tr>\n",
              "      <th>1</th>\n",
              "      <td>A wonderful little production. &lt;br /&gt;&lt;br /&gt;The...</td>\n",
              "      <td>positive</td>\n",
              "      <td>wonderful little production filming technique ...</td>\n",
              "    </tr>\n",
              "    <tr>\n",
              "      <th>2</th>\n",
              "      <td>I thought this was a wonderful way to spend ti...</td>\n",
              "      <td>positive</td>\n",
              "      <td>thought wonderful way spend time hot summer we...</td>\n",
              "    </tr>\n",
              "    <tr>\n",
              "      <th>3</th>\n",
              "      <td>Basically there's a family where a little boy ...</td>\n",
              "      <td>negative</td>\n",
              "      <td>basically there family little boy jake think t...</td>\n",
              "    </tr>\n",
              "    <tr>\n",
              "      <th>4</th>\n",
              "      <td>Petter Mattei's \"Love in the Time of Money\" is...</td>\n",
              "      <td>positive</td>\n",
              "      <td>petter matteis love time money visually stunni...</td>\n",
              "    </tr>\n",
              "    <tr>\n",
              "      <th>...</th>\n",
              "      <td>...</td>\n",
              "      <td>...</td>\n",
              "      <td>...</td>\n",
              "    </tr>\n",
              "    <tr>\n",
              "      <th>49995</th>\n",
              "      <td>I thought this movie did a down right good job...</td>\n",
              "      <td>positive</td>\n",
              "      <td>thought movie right good job wasnt creative or...</td>\n",
              "    </tr>\n",
              "    <tr>\n",
              "      <th>49996</th>\n",
              "      <td>Bad plot, bad dialogue, bad acting, idiotic di...</td>\n",
              "      <td>negative</td>\n",
              "      <td>bad plot bad dialogue bad acting idiotic direc...</td>\n",
              "    </tr>\n",
              "    <tr>\n",
              "      <th>49997</th>\n",
              "      <td>I am a Catholic taught in parochial elementary...</td>\n",
              "      <td>negative</td>\n",
              "      <td>am catholic taught parochial elementary school...</td>\n",
              "    </tr>\n",
              "    <tr>\n",
              "      <th>49998</th>\n",
              "      <td>I'm going to have to disagree with the previou...</td>\n",
              "      <td>negative</td>\n",
              "      <td>im going have disagree previous comment side m...</td>\n",
              "    </tr>\n",
              "    <tr>\n",
              "      <th>49999</th>\n",
              "      <td>No one expects the Star Trek movies to be high...</td>\n",
              "      <td>negative</td>\n",
              "      <td>one expects star trek movie be high art fan ex...</td>\n",
              "    </tr>\n",
              "  </tbody>\n",
              "</table>\n",
              "<p>50000 rows × 3 columns</p>\n",
              "</div>\n",
              "      <button class=\"colab-df-convert\" onclick=\"convertToInteractive('df-08c081d7-825d-4c67-a242-d8d789f360e5')\"\n",
              "              title=\"Convert this dataframe to an interactive table.\"\n",
              "              style=\"display:none;\">\n",
              "\n",
              "  <svg xmlns=\"http://www.w3.org/2000/svg\" height=\"24px\"viewBox=\"0 0 24 24\"\n",
              "       width=\"24px\">\n",
              "    <path d=\"M0 0h24v24H0V0z\" fill=\"none\"/>\n",
              "    <path d=\"M18.56 5.44l.94 2.06.94-2.06 2.06-.94-2.06-.94-.94-2.06-.94 2.06-2.06.94zm-11 1L8.5 8.5l.94-2.06 2.06-.94-2.06-.94L8.5 2.5l-.94 2.06-2.06.94zm10 10l.94 2.06.94-2.06 2.06-.94-2.06-.94-.94-2.06-.94 2.06-2.06.94z\"/><path d=\"M17.41 7.96l-1.37-1.37c-.4-.4-.92-.59-1.43-.59-.52 0-1.04.2-1.43.59L10.3 9.45l-7.72 7.72c-.78.78-.78 2.05 0 2.83L4 21.41c.39.39.9.59 1.41.59.51 0 1.02-.2 1.41-.59l7.78-7.78 2.81-2.81c.8-.78.8-2.07 0-2.86zM5.41 20L4 18.59l7.72-7.72 1.47 1.35L5.41 20z\"/>\n",
              "  </svg>\n",
              "      </button>\n",
              "\n",
              "\n",
              "\n",
              "    <div id=\"df-bf8ee1da-01c3-45fd-900c-6598be82e88e\">\n",
              "      <button class=\"colab-df-quickchart\" onclick=\"quickchart('df-bf8ee1da-01c3-45fd-900c-6598be82e88e')\"\n",
              "              title=\"Suggest charts.\"\n",
              "              style=\"display:none;\">\n",
              "\n",
              "<svg xmlns=\"http://www.w3.org/2000/svg\" height=\"24px\"viewBox=\"0 0 24 24\"\n",
              "     width=\"24px\">\n",
              "    <g>\n",
              "        <path d=\"M19 3H5c-1.1 0-2 .9-2 2v14c0 1.1.9 2 2 2h14c1.1 0 2-.9 2-2V5c0-1.1-.9-2-2-2zM9 17H7v-7h2v7zm4 0h-2V7h2v10zm4 0h-2v-4h2v4z\"/>\n",
              "    </g>\n",
              "</svg>\n",
              "      </button>\n",
              "    </div>\n",
              "\n",
              "<style>\n",
              "  .colab-df-quickchart {\n",
              "    background-color: #E8F0FE;\n",
              "    border: none;\n",
              "    border-radius: 50%;\n",
              "    cursor: pointer;\n",
              "    display: none;\n",
              "    fill: #1967D2;\n",
              "    height: 32px;\n",
              "    padding: 0 0 0 0;\n",
              "    width: 32px;\n",
              "  }\n",
              "\n",
              "  .colab-df-quickchart:hover {\n",
              "    background-color: #E2EBFA;\n",
              "    box-shadow: 0px 1px 2px rgba(60, 64, 67, 0.3), 0px 1px 3px 1px rgba(60, 64, 67, 0.15);\n",
              "    fill: #174EA6;\n",
              "  }\n",
              "\n",
              "  [theme=dark] .colab-df-quickchart {\n",
              "    background-color: #3B4455;\n",
              "    fill: #D2E3FC;\n",
              "  }\n",
              "\n",
              "  [theme=dark] .colab-df-quickchart:hover {\n",
              "    background-color: #434B5C;\n",
              "    box-shadow: 0px 1px 3px 1px rgba(0, 0, 0, 0.15);\n",
              "    filter: drop-shadow(0px 1px 2px rgba(0, 0, 0, 0.3));\n",
              "    fill: #FFFFFF;\n",
              "  }\n",
              "</style>\n",
              "\n",
              "    <script>\n",
              "      async function quickchart(key) {\n",
              "        const containerElement = document.querySelector('#' + key);\n",
              "        const charts = await google.colab.kernel.invokeFunction(\n",
              "            'suggestCharts', [key], {});\n",
              "      }\n",
              "    </script>\n",
              "\n",
              "      <script>\n",
              "\n",
              "function displayQuickchartButton(domScope) {\n",
              "  let quickchartButtonEl =\n",
              "    domScope.querySelector('#df-bf8ee1da-01c3-45fd-900c-6598be82e88e button.colab-df-quickchart');\n",
              "  quickchartButtonEl.style.display =\n",
              "    google.colab.kernel.accessAllowed ? 'block' : 'none';\n",
              "}\n",
              "\n",
              "        displayQuickchartButton(document);\n",
              "      </script>\n",
              "      <style>\n",
              "    .colab-df-container {\n",
              "      display:flex;\n",
              "      flex-wrap:wrap;\n",
              "      gap: 12px;\n",
              "    }\n",
              "\n",
              "    .colab-df-convert {\n",
              "      background-color: #E8F0FE;\n",
              "      border: none;\n",
              "      border-radius: 50%;\n",
              "      cursor: pointer;\n",
              "      display: none;\n",
              "      fill: #1967D2;\n",
              "      height: 32px;\n",
              "      padding: 0 0 0 0;\n",
              "      width: 32px;\n",
              "    }\n",
              "\n",
              "    .colab-df-convert:hover {\n",
              "      background-color: #E2EBFA;\n",
              "      box-shadow: 0px 1px 2px rgba(60, 64, 67, 0.3), 0px 1px 3px 1px rgba(60, 64, 67, 0.15);\n",
              "      fill: #174EA6;\n",
              "    }\n",
              "\n",
              "    [theme=dark] .colab-df-convert {\n",
              "      background-color: #3B4455;\n",
              "      fill: #D2E3FC;\n",
              "    }\n",
              "\n",
              "    [theme=dark] .colab-df-convert:hover {\n",
              "      background-color: #434B5C;\n",
              "      box-shadow: 0px 1px 3px 1px rgba(0, 0, 0, 0.15);\n",
              "      filter: drop-shadow(0px 1px 2px rgba(0, 0, 0, 0.3));\n",
              "      fill: #FFFFFF;\n",
              "    }\n",
              "  </style>\n",
              "\n",
              "      <script>\n",
              "        const buttonEl =\n",
              "          document.querySelector('#df-08c081d7-825d-4c67-a242-d8d789f360e5 button.colab-df-convert');\n",
              "        buttonEl.style.display =\n",
              "          google.colab.kernel.accessAllowed ? 'block' : 'none';\n",
              "\n",
              "        async function convertToInteractive(key) {\n",
              "          const element = document.querySelector('#df-08c081d7-825d-4c67-a242-d8d789f360e5');\n",
              "          const dataTable =\n",
              "            await google.colab.kernel.invokeFunction('convertToInteractive',\n",
              "                                                     [key], {});\n",
              "          if (!dataTable) return;\n",
              "\n",
              "          const docLinkHtml = 'Like what you see? Visit the ' +\n",
              "            '<a target=\"_blank\" href=https://colab.research.google.com/notebooks/data_table.ipynb>data table notebook</a>'\n",
              "            + ' to learn more about interactive tables.';\n",
              "          element.innerHTML = '';\n",
              "          dataTable['output_type'] = 'display_data';\n",
              "          await google.colab.output.renderOutput(dataTable, element);\n",
              "          const docLink = document.createElement('div');\n",
              "          docLink.innerHTML = docLinkHtml;\n",
              "          element.appendChild(docLink);\n",
              "        }\n",
              "      </script>\n",
              "    </div>\n",
              "  </div>\n"
            ]
          },
          "metadata": {},
          "execution_count": 102
        }
      ]
    },
    {
      "cell_type": "code",
      "source": [
        "df[\"Review\"] = df[\"Review\"].apply(lambda x : x.replace(\"<br /><br />\",\" \"))"
      ],
      "metadata": {
        "id": "6D15KZhHHyNs"
      },
      "execution_count": null,
      "outputs": []
    },
    {
      "cell_type": "code",
      "source": [
        "X = df[\"Review\"]\n",
        "y = df[\"Sentiment\"]"
      ],
      "metadata": {
        "id": "rFQGQvqjtnEy"
      },
      "execution_count": null,
      "outputs": []
    },
    {
      "cell_type": "code",
      "source": [
        "X_train, X_test, y_train, y_test = train_test_split(X, y, test_size=0.2, random_state=42)"
      ],
      "metadata": {
        "id": "nK_FOZGrtJeH"
      },
      "execution_count": null,
      "outputs": []
    },
    {
      "cell_type": "code",
      "source": [
        "test_set = np.array(pd.concat([X_train,y_train ], axis=1))\n",
        "training_set = np.array(pd.concat([X_test,y_test], axis=1))"
      ],
      "metadata": {
        "id": "K_2VbqG6r9yC"
      },
      "execution_count": null,
      "outputs": []
    },
    {
      "cell_type": "code",
      "source": [
        "test_set[0].shape"
      ],
      "metadata": {
        "colab": {
          "base_uri": "https://localhost:8080/"
        },
        "id": "hoxCaMOTxN9m",
        "outputId": "24e182ae-e0b6-46ab-d61b-55026caffb4b"
      },
      "execution_count": null,
      "outputs": [
        {
          "output_type": "execute_result",
          "data": {
            "text/plain": [
              "(2,)"
            ]
          },
          "metadata": {},
          "execution_count": 33
        }
      ]
    },
    {
      "cell_type": "code",
      "source": [
        "def countSentiment(top_k_class):\n",
        "  postive = 0\n",
        "  negative = 0\n",
        "  for i in top_k_class:\n",
        "    if i== 'negative':\n",
        "      negative +=1\n",
        "    else:\n",
        "      postive +=1\n",
        "  if negative>postive:\n",
        "    return 'negative'\n",
        "  else:\n",
        "    return 'positive'"
      ],
      "metadata": {
        "id": "oTA5yNgG0S5R"
      },
      "execution_count": null,
      "outputs": []
    },
    {
      "cell_type": "code",
      "source": [
        "predictions_table = pd.DataFrame(columns = [\"k\", \"accuracy\"])"
      ],
      "metadata": {
        "id": "OazDDFR-okzR"
      },
      "execution_count": null,
      "outputs": []
    },
    {
      "cell_type": "code",
      "source": [
        "number_of_guesses = 100"
      ],
      "metadata": {
        "id": "wK3vkkR_dX2W"
      },
      "execution_count": null,
      "outputs": []
    },
    {
      "cell_type": "code",
      "source": [
        "import gzip\n",
        "i = 0\n",
        "for k in [80,100,120]:\n",
        "  predictions = []\n",
        "  for ( x1 , _ ) in test_set[:number_of_guesses]:\n",
        "    i += 1\n",
        "    Cx1 = len( gzip.compress ( x1.encode() ) )\n",
        "    distance_from_x1 = []\n",
        "    for ( x2 , _ ) in training_set :\n",
        "      Cx2 = len( gzip.compress( x2.encode()) )\n",
        "      x1x2 = \" \".join([ x1 , x2 ])\n",
        "      Cx1x2 = len( gzip.compress( x1x2.encode() ))\n",
        "      ncd = ( Cx1x2 - min( Cx1 , Cx2 ) ) / max(Cx1 , Cx2 )\n",
        "      distance_from_x1.append ( ncd )\n",
        "      sorted_idx = np.argsort ( np.array(distance_from_x1 ) )\n",
        "    top_k_class = training_set[ sorted_idx[:k ] , 1]\n",
        "    predict_class = countSentiment(top_k_class)\n",
        "    predictions.append(predict_class)\n",
        "    print(k,i)\n",
        "\n",
        "  correct = 0\n",
        "  for i in range(number_of_guesses):\n",
        "    if(test_set[i,1] == predictions[i]):\n",
        "      correct += 1\n",
        "  new_pred = {\n",
        "      \"k\":k,\n",
        "      \"accuracy\": (correct/number_of_guesses)\n",
        "  }\n",
        "  predictions_table = pd.concat([predictions_table,pd.DataFrame([new_pred])],ignore_index= True)\n"
      ],
      "metadata": {
        "colab": {
          "base_uri": "https://localhost:8080/"
        },
        "id": "_Jq_AmlmpyrG",
        "outputId": "3023dc63-f0e1-492d-bbab-a34ebe375f7d"
      },
      "execution_count": null,
      "outputs": [
        {
          "output_type": "stream",
          "name": "stdout",
          "text": [
            "80 1\n",
            "80 2\n",
            "80 3\n",
            "80 4\n",
            "80 5\n",
            "80 6\n",
            "80 7\n",
            "80 8\n",
            "80 9\n",
            "80 10\n",
            "80 11\n",
            "80 12\n",
            "80 13\n",
            "80 14\n",
            "80 15\n",
            "80 16\n",
            "80 17\n",
            "80 18\n",
            "80 19\n",
            "80 20\n",
            "80 21\n",
            "80 22\n",
            "80 23\n",
            "80 24\n",
            "80 25\n",
            "80 26\n",
            "80 27\n",
            "80 28\n",
            "80 29\n",
            "80 30\n",
            "80 31\n",
            "80 32\n",
            "80 33\n",
            "80 34\n",
            "80 35\n",
            "80 36\n",
            "80 37\n",
            "80 38\n",
            "80 39\n",
            "80 40\n",
            "80 41\n",
            "80 42\n",
            "80 43\n",
            "80 44\n",
            "80 45\n",
            "80 46\n",
            "80 47\n",
            "80 48\n",
            "80 49\n",
            "80 50\n",
            "80 51\n",
            "80 52\n",
            "80 53\n",
            "80 54\n",
            "80 55\n",
            "80 56\n",
            "80 57\n",
            "80 58\n",
            "80 59\n",
            "80 60\n",
            "80 61\n",
            "80 62\n",
            "80 63\n",
            "80 64\n",
            "80 65\n",
            "80 66\n",
            "80 67\n",
            "80 68\n",
            "80 69\n",
            "80 70\n",
            "80 71\n",
            "80 72\n",
            "80 73\n",
            "80 74\n",
            "80 75\n",
            "80 76\n",
            "80 77\n",
            "80 78\n",
            "80 79\n",
            "80 80\n",
            "80 81\n",
            "80 82\n",
            "80 83\n",
            "80 84\n",
            "80 85\n",
            "80 86\n",
            "80 87\n",
            "80 88\n",
            "80 89\n",
            "80 90\n",
            "80 91\n",
            "80 92\n",
            "80 93\n",
            "80 94\n",
            "80 95\n",
            "80 96\n",
            "80 97\n",
            "80 98\n",
            "80 99\n",
            "80 100\n",
            "100 100\n",
            "100 101\n",
            "100 102\n",
            "100 103\n",
            "100 104\n",
            "100 105\n",
            "100 106\n",
            "100 107\n",
            "100 108\n",
            "100 109\n",
            "100 110\n",
            "100 111\n",
            "100 112\n",
            "100 113\n",
            "100 114\n",
            "100 115\n",
            "100 116\n",
            "100 117\n",
            "100 118\n",
            "100 119\n",
            "100 120\n",
            "100 121\n",
            "100 122\n",
            "100 123\n",
            "100 124\n",
            "100 125\n",
            "100 126\n",
            "100 127\n",
            "100 128\n",
            "100 129\n",
            "100 130\n",
            "100 131\n",
            "100 132\n",
            "100 133\n",
            "100 134\n",
            "100 135\n",
            "100 136\n",
            "100 137\n",
            "100 138\n",
            "100 139\n",
            "100 140\n",
            "100 141\n",
            "100 142\n",
            "100 143\n",
            "100 144\n",
            "100 145\n",
            "100 146\n",
            "100 147\n",
            "100 148\n",
            "100 149\n",
            "100 150\n",
            "100 151\n",
            "100 152\n",
            "100 153\n",
            "100 154\n",
            "100 155\n",
            "100 156\n",
            "100 157\n",
            "100 158\n",
            "100 159\n",
            "100 160\n",
            "100 161\n",
            "100 162\n",
            "100 163\n",
            "100 164\n",
            "100 165\n",
            "100 166\n",
            "100 167\n",
            "100 168\n",
            "100 169\n",
            "100 170\n",
            "100 171\n",
            "100 172\n",
            "100 173\n",
            "100 174\n",
            "100 175\n",
            "100 176\n",
            "100 177\n",
            "100 178\n",
            "100 179\n",
            "100 180\n",
            "100 181\n",
            "100 182\n",
            "100 183\n",
            "100 184\n",
            "100 185\n",
            "100 186\n",
            "100 187\n",
            "100 188\n",
            "100 189\n",
            "100 190\n",
            "100 191\n",
            "100 192\n",
            "100 193\n",
            "100 194\n",
            "100 195\n",
            "100 196\n",
            "100 197\n",
            "100 198\n",
            "100 199\n",
            "120 100\n",
            "120 101\n",
            "120 102\n",
            "120 103\n",
            "120 104\n",
            "120 105\n",
            "120 106\n",
            "120 107\n",
            "120 108\n",
            "120 109\n",
            "120 110\n",
            "120 111\n",
            "120 112\n",
            "120 113\n",
            "120 114\n",
            "120 115\n",
            "120 116\n",
            "120 117\n",
            "120 118\n",
            "120 119\n",
            "120 120\n",
            "120 121\n",
            "120 122\n",
            "120 123\n",
            "120 124\n",
            "120 125\n",
            "120 126\n",
            "120 127\n",
            "120 128\n",
            "120 129\n",
            "120 130\n",
            "120 131\n",
            "120 132\n",
            "120 133\n",
            "120 134\n",
            "120 135\n",
            "120 136\n",
            "120 137\n",
            "120 138\n",
            "120 139\n",
            "120 140\n",
            "120 141\n",
            "120 142\n",
            "120 143\n",
            "120 144\n",
            "120 145\n",
            "120 146\n",
            "120 147\n",
            "120 148\n",
            "120 149\n",
            "120 150\n",
            "120 151\n",
            "120 152\n",
            "120 153\n",
            "120 154\n",
            "120 155\n",
            "120 156\n",
            "120 157\n",
            "120 158\n",
            "120 159\n",
            "120 160\n",
            "120 161\n",
            "120 162\n",
            "120 163\n",
            "120 164\n",
            "120 165\n",
            "120 166\n",
            "120 167\n",
            "120 168\n",
            "120 169\n",
            "120 170\n",
            "120 171\n",
            "120 172\n",
            "120 173\n",
            "120 174\n",
            "120 175\n",
            "120 176\n",
            "120 177\n",
            "120 178\n",
            "120 179\n",
            "120 180\n",
            "120 181\n",
            "120 182\n",
            "120 183\n",
            "120 184\n",
            "120 185\n",
            "120 186\n",
            "120 187\n",
            "120 188\n",
            "120 189\n",
            "120 190\n",
            "120 191\n",
            "120 192\n",
            "120 193\n",
            "120 194\n",
            "120 195\n",
            "120 196\n",
            "120 197\n",
            "120 198\n",
            "120 199\n"
          ]
        }
      ]
    },
    {
      "cell_type": "code",
      "source": [
        "predictions_table"
      ],
      "metadata": {
        "colab": {
          "base_uri": "https://localhost:8080/",
          "height": 143
        },
        "id": "D3qf3xzP2MeF",
        "outputId": "662b87b8-6301-42b7-b218-dfc9d92afbab"
      },
      "execution_count": null,
      "outputs": [
        {
          "output_type": "execute_result",
          "data": {
            "text/plain": [
              "     k  accuracy\n",
              "0   80      0.85\n",
              "1  100      0.90\n",
              "2  120      0.87"
            ],
            "text/html": [
              "\n",
              "\n",
              "  <div id=\"df-313dd862-49e3-4304-8a52-da864152489e\">\n",
              "    <div class=\"colab-df-container\">\n",
              "      <div>\n",
              "<style scoped>\n",
              "    .dataframe tbody tr th:only-of-type {\n",
              "        vertical-align: middle;\n",
              "    }\n",
              "\n",
              "    .dataframe tbody tr th {\n",
              "        vertical-align: top;\n",
              "    }\n",
              "\n",
              "    .dataframe thead th {\n",
              "        text-align: right;\n",
              "    }\n",
              "</style>\n",
              "<table border=\"1\" class=\"dataframe\">\n",
              "  <thead>\n",
              "    <tr style=\"text-align: right;\">\n",
              "      <th></th>\n",
              "      <th>k</th>\n",
              "      <th>accuracy</th>\n",
              "    </tr>\n",
              "  </thead>\n",
              "  <tbody>\n",
              "    <tr>\n",
              "      <th>0</th>\n",
              "      <td>80</td>\n",
              "      <td>0.85</td>\n",
              "    </tr>\n",
              "    <tr>\n",
              "      <th>1</th>\n",
              "      <td>100</td>\n",
              "      <td>0.90</td>\n",
              "    </tr>\n",
              "    <tr>\n",
              "      <th>2</th>\n",
              "      <td>120</td>\n",
              "      <td>0.87</td>\n",
              "    </tr>\n",
              "  </tbody>\n",
              "</table>\n",
              "</div>\n",
              "      <button class=\"colab-df-convert\" onclick=\"convertToInteractive('df-313dd862-49e3-4304-8a52-da864152489e')\"\n",
              "              title=\"Convert this dataframe to an interactive table.\"\n",
              "              style=\"display:none;\">\n",
              "\n",
              "  <svg xmlns=\"http://www.w3.org/2000/svg\" height=\"24px\"viewBox=\"0 0 24 24\"\n",
              "       width=\"24px\">\n",
              "    <path d=\"M0 0h24v24H0V0z\" fill=\"none\"/>\n",
              "    <path d=\"M18.56 5.44l.94 2.06.94-2.06 2.06-.94-2.06-.94-.94-2.06-.94 2.06-2.06.94zm-11 1L8.5 8.5l.94-2.06 2.06-.94-2.06-.94L8.5 2.5l-.94 2.06-2.06.94zm10 10l.94 2.06.94-2.06 2.06-.94-2.06-.94-.94-2.06-.94 2.06-2.06.94z\"/><path d=\"M17.41 7.96l-1.37-1.37c-.4-.4-.92-.59-1.43-.59-.52 0-1.04.2-1.43.59L10.3 9.45l-7.72 7.72c-.78.78-.78 2.05 0 2.83L4 21.41c.39.39.9.59 1.41.59.51 0 1.02-.2 1.41-.59l7.78-7.78 2.81-2.81c.8-.78.8-2.07 0-2.86zM5.41 20L4 18.59l7.72-7.72 1.47 1.35L5.41 20z\"/>\n",
              "  </svg>\n",
              "      </button>\n",
              "\n",
              "\n",
              "\n",
              "    <div id=\"df-610576c7-b2a1-4c10-bf48-fcdde4bfcb91\">\n",
              "      <button class=\"colab-df-quickchart\" onclick=\"quickchart('df-610576c7-b2a1-4c10-bf48-fcdde4bfcb91')\"\n",
              "              title=\"Suggest charts.\"\n",
              "              style=\"display:none;\">\n",
              "\n",
              "<svg xmlns=\"http://www.w3.org/2000/svg\" height=\"24px\"viewBox=\"0 0 24 24\"\n",
              "     width=\"24px\">\n",
              "    <g>\n",
              "        <path d=\"M19 3H5c-1.1 0-2 .9-2 2v14c0 1.1.9 2 2 2h14c1.1 0 2-.9 2-2V5c0-1.1-.9-2-2-2zM9 17H7v-7h2v7zm4 0h-2V7h2v10zm4 0h-2v-4h2v4z\"/>\n",
              "    </g>\n",
              "</svg>\n",
              "      </button>\n",
              "    </div>\n",
              "\n",
              "<style>\n",
              "  .colab-df-quickchart {\n",
              "    background-color: #E8F0FE;\n",
              "    border: none;\n",
              "    border-radius: 50%;\n",
              "    cursor: pointer;\n",
              "    display: none;\n",
              "    fill: #1967D2;\n",
              "    height: 32px;\n",
              "    padding: 0 0 0 0;\n",
              "    width: 32px;\n",
              "  }\n",
              "\n",
              "  .colab-df-quickchart:hover {\n",
              "    background-color: #E2EBFA;\n",
              "    box-shadow: 0px 1px 2px rgba(60, 64, 67, 0.3), 0px 1px 3px 1px rgba(60, 64, 67, 0.15);\n",
              "    fill: #174EA6;\n",
              "  }\n",
              "\n",
              "  [theme=dark] .colab-df-quickchart {\n",
              "    background-color: #3B4455;\n",
              "    fill: #D2E3FC;\n",
              "  }\n",
              "\n",
              "  [theme=dark] .colab-df-quickchart:hover {\n",
              "    background-color: #434B5C;\n",
              "    box-shadow: 0px 1px 3px 1px rgba(0, 0, 0, 0.15);\n",
              "    filter: drop-shadow(0px 1px 2px rgba(0, 0, 0, 0.3));\n",
              "    fill: #FFFFFF;\n",
              "  }\n",
              "</style>\n",
              "\n",
              "    <script>\n",
              "      async function quickchart(key) {\n",
              "        const containerElement = document.querySelector('#' + key);\n",
              "        const charts = await google.colab.kernel.invokeFunction(\n",
              "            'suggestCharts', [key], {});\n",
              "      }\n",
              "    </script>\n",
              "\n",
              "      <script>\n",
              "\n",
              "function displayQuickchartButton(domScope) {\n",
              "  let quickchartButtonEl =\n",
              "    domScope.querySelector('#df-610576c7-b2a1-4c10-bf48-fcdde4bfcb91 button.colab-df-quickchart');\n",
              "  quickchartButtonEl.style.display =\n",
              "    google.colab.kernel.accessAllowed ? 'block' : 'none';\n",
              "}\n",
              "\n",
              "        displayQuickchartButton(document);\n",
              "      </script>\n",
              "      <style>\n",
              "    .colab-df-container {\n",
              "      display:flex;\n",
              "      flex-wrap:wrap;\n",
              "      gap: 12px;\n",
              "    }\n",
              "\n",
              "    .colab-df-convert {\n",
              "      background-color: #E8F0FE;\n",
              "      border: none;\n",
              "      border-radius: 50%;\n",
              "      cursor: pointer;\n",
              "      display: none;\n",
              "      fill: #1967D2;\n",
              "      height: 32px;\n",
              "      padding: 0 0 0 0;\n",
              "      width: 32px;\n",
              "    }\n",
              "\n",
              "    .colab-df-convert:hover {\n",
              "      background-color: #E2EBFA;\n",
              "      box-shadow: 0px 1px 2px rgba(60, 64, 67, 0.3), 0px 1px 3px 1px rgba(60, 64, 67, 0.15);\n",
              "      fill: #174EA6;\n",
              "    }\n",
              "\n",
              "    [theme=dark] .colab-df-convert {\n",
              "      background-color: #3B4455;\n",
              "      fill: #D2E3FC;\n",
              "    }\n",
              "\n",
              "    [theme=dark] .colab-df-convert:hover {\n",
              "      background-color: #434B5C;\n",
              "      box-shadow: 0px 1px 3px 1px rgba(0, 0, 0, 0.15);\n",
              "      filter: drop-shadow(0px 1px 2px rgba(0, 0, 0, 0.3));\n",
              "      fill: #FFFFFF;\n",
              "    }\n",
              "  </style>\n",
              "\n",
              "      <script>\n",
              "        const buttonEl =\n",
              "          document.querySelector('#df-313dd862-49e3-4304-8a52-da864152489e button.colab-df-convert');\n",
              "        buttonEl.style.display =\n",
              "          google.colab.kernel.accessAllowed ? 'block' : 'none';\n",
              "\n",
              "        async function convertToInteractive(key) {\n",
              "          const element = document.querySelector('#df-313dd862-49e3-4304-8a52-da864152489e');\n",
              "          const dataTable =\n",
              "            await google.colab.kernel.invokeFunction('convertToInteractive',\n",
              "                                                     [key], {});\n",
              "          if (!dataTable) return;\n",
              "\n",
              "          const docLinkHtml = 'Like what you see? Visit the ' +\n",
              "            '<a target=\"_blank\" href=https://colab.research.google.com/notebooks/data_table.ipynb>data table notebook</a>'\n",
              "            + ' to learn more about interactive tables.';\n",
              "          element.innerHTML = '';\n",
              "          dataTable['output_type'] = 'display_data';\n",
              "          await google.colab.output.renderOutput(dataTable, element);\n",
              "          const docLink = document.createElement('div');\n",
              "          docLink.innerHTML = docLinkHtml;\n",
              "          element.appendChild(docLink);\n",
              "        }\n",
              "      </script>\n",
              "    </div>\n",
              "  </div>\n"
            ]
          },
          "metadata": {},
          "execution_count": 39
        }
      ]
    }
  ],
  "metadata": {
    "accelerator": "GPU",
    "colab": {
      "provenance": [],
      "gpuType": "T4",
      "collapsed_sections": [
        "O1t4wTEk1yMf",
        "ig_qJHicL7K0",
        "j4ql7IdDMCWq"
      ],
      "include_colab_link": true
    },
    "kernelspec": {
      "display_name": "Python 3",
      "name": "python3"
    },
    "language_info": {
      "name": "python"
    }
  },
  "nbformat": 4,
  "nbformat_minor": 0
}